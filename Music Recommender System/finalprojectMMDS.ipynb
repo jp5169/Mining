{
  "nbformat": 4,
  "nbformat_minor": 0,
  "metadata": {
    "colab": {
      "name": "Copy of My Copy",
      "provenance": [],
      "collapsed_sections": []
    },
    "kernelspec": {
      "name": "python3",
      "display_name": "Python 3"
    },
    "language_info": {
      "name": "python"
    }
  },
  "cells": [
    {
      "cell_type": "markdown",
      "metadata": {
        "id": "_fXeSIrqzWVr"
      },
      "source": [
        "**Google Colab Imports**"
      ]
    },
    {
      "cell_type": "code",
      "metadata": {
        "colab": {
          "base_uri": "https://localhost:8080/"
        },
        "id": "dqDxTONjVKmz",
        "outputId": "bb5883a2-944a-4420-c4d1-1c5ed2942854"
      },
      "source": [
        "pip install spotipy --upgrade"
      ],
      "execution_count": null,
      "outputs": [
        {
          "output_type": "stream",
          "text": [
            "Requirement already up-to-date: spotipy in /usr/local/lib/python3.7/dist-packages (2.18.0)\n",
            "Requirement already satisfied, skipping upgrade: six>=1.15.0 in /usr/local/lib/python3.7/dist-packages (from spotipy) (1.15.0)\n",
            "Requirement already satisfied, skipping upgrade: requests>=2.25.0 in /usr/local/lib/python3.7/dist-packages (from spotipy) (2.25.1)\n",
            "Requirement already satisfied, skipping upgrade: urllib3>=1.26.0 in /usr/local/lib/python3.7/dist-packages (from spotipy) (1.26.4)\n",
            "Requirement already satisfied, skipping upgrade: certifi>=2017.4.17 in /usr/local/lib/python3.7/dist-packages (from requests>=2.25.0->spotipy) (2020.12.5)\n",
            "Requirement already satisfied, skipping upgrade: chardet<5,>=3.0.2 in /usr/local/lib/python3.7/dist-packages (from requests>=2.25.0->spotipy) (3.0.4)\n",
            "Requirement already satisfied, skipping upgrade: idna<3,>=2.5 in /usr/local/lib/python3.7/dist-packages (from requests>=2.25.0->spotipy) (2.10)\n"
          ],
          "name": "stdout"
        }
      ]
    },
    {
      "cell_type": "code",
      "metadata": {
        "colab": {
          "base_uri": "https://localhost:8080/"
        },
        "id": "qUzYIYzaVWI4",
        "outputId": "9f19f225-e7e8-44b7-9af0-25435e7741af"
      },
      "source": [
        "from google.colab import drive\n",
        "drive.mount('/content/drive/', force_remount = True)\n",
        "import spotipy\n",
        "from spotipy.oauth2 import SpotifyClientCredentials\n",
        "import pandas as pd\n",
        "import math\n",
        "from sklearn.feature_extraction.text import TfidfVectorizer\n",
        "from sklearn.metrics.pairwise import cosine_similarity\n",
        "import random"
      ],
      "execution_count": null,
      "outputs": [
        {
          "output_type": "stream",
          "text": [
            "Mounted at /content/drive/\n"
          ],
          "name": "stdout"
        }
      ]
    },
    {
      "cell_type": "markdown",
      "metadata": {
        "id": "vkHb-5LezmA8"
      },
      "source": [
        "**Loading in data from https://www.kaggle.com/yamaerenay/spotify-dataset-19212020-160k-tracks using pandas dataframe using the data csv**"
      ]
    },
    {
      "cell_type": "code",
      "metadata": {
        "id": "0FiYafzdVh7_",
        "colab": {
          "base_uri": "https://localhost:8080/",
          "height": 231
        },
        "outputId": "6a753d59-5c90-4a0a-fe13-318b1b8b6a83"
      },
      "source": [
        "spotify_data = pd.read_csv('drive/MyDrive/Music Recommender System/data.csv')\n",
        "spotify_data.head()"
      ],
      "execution_count": null,
      "outputs": [
        {
          "output_type": "execute_result",
          "data": {
            "text/html": [
              "<div>\n",
              "<style scoped>\n",
              "    .dataframe tbody tr th:only-of-type {\n",
              "        vertical-align: middle;\n",
              "    }\n",
              "\n",
              "    .dataframe tbody tr th {\n",
              "        vertical-align: top;\n",
              "    }\n",
              "\n",
              "    .dataframe thead th {\n",
              "        text-align: right;\n",
              "    }\n",
              "</style>\n",
              "<table border=\"1\" class=\"dataframe\">\n",
              "  <thead>\n",
              "    <tr style=\"text-align: right;\">\n",
              "      <th></th>\n",
              "      <th>acousticness</th>\n",
              "      <th>artists</th>\n",
              "      <th>danceability</th>\n",
              "      <th>duration_ms</th>\n",
              "      <th>energy</th>\n",
              "      <th>explicit</th>\n",
              "      <th>id</th>\n",
              "      <th>instrumentalness</th>\n",
              "      <th>key</th>\n",
              "      <th>liveness</th>\n",
              "      <th>loudness</th>\n",
              "      <th>mode</th>\n",
              "      <th>name</th>\n",
              "      <th>popularity</th>\n",
              "      <th>release_date</th>\n",
              "      <th>speechiness</th>\n",
              "      <th>tempo</th>\n",
              "      <th>valence</th>\n",
              "      <th>year</th>\n",
              "      <th>main_artist</th>\n",
              "    </tr>\n",
              "  </thead>\n",
              "  <tbody>\n",
              "    <tr>\n",
              "      <th>0</th>\n",
              "      <td>0.991000</td>\n",
              "      <td>['Mamie Smith']</td>\n",
              "      <td>0.598</td>\n",
              "      <td>168333</td>\n",
              "      <td>0.224</td>\n",
              "      <td>0</td>\n",
              "      <td>0cS0A1fUEUd1EW3FcF8AEI</td>\n",
              "      <td>0.000522</td>\n",
              "      <td>5</td>\n",
              "      <td>0.3790</td>\n",
              "      <td>-12.628</td>\n",
              "      <td>0</td>\n",
              "      <td>Keep A Song In Your Soul</td>\n",
              "      <td>12</td>\n",
              "      <td>1920</td>\n",
              "      <td>0.0936</td>\n",
              "      <td>149.976</td>\n",
              "      <td>0.6340</td>\n",
              "      <td>1920</td>\n",
              "      <td>NaN</td>\n",
              "    </tr>\n",
              "    <tr>\n",
              "      <th>1</th>\n",
              "      <td>0.643000</td>\n",
              "      <td>[\"Screamin' Jay Hawkins\"]</td>\n",
              "      <td>0.852</td>\n",
              "      <td>150200</td>\n",
              "      <td>0.517</td>\n",
              "      <td>0</td>\n",
              "      <td>0hbkKFIJm7Z05H8Zl9w30f</td>\n",
              "      <td>0.026400</td>\n",
              "      <td>5</td>\n",
              "      <td>0.0809</td>\n",
              "      <td>-7.261</td>\n",
              "      <td>0</td>\n",
              "      <td>I Put A Spell On You</td>\n",
              "      <td>7</td>\n",
              "      <td>1920-01-05</td>\n",
              "      <td>0.0534</td>\n",
              "      <td>86.889</td>\n",
              "      <td>0.9500</td>\n",
              "      <td>1920</td>\n",
              "      <td>NaN</td>\n",
              "    </tr>\n",
              "    <tr>\n",
              "      <th>2</th>\n",
              "      <td>0.993000</td>\n",
              "      <td>['Mamie Smith']</td>\n",
              "      <td>0.647</td>\n",
              "      <td>163827</td>\n",
              "      <td>0.186</td>\n",
              "      <td>0</td>\n",
              "      <td>11m7laMUgmOKqI3oYzuhne</td>\n",
              "      <td>0.000018</td>\n",
              "      <td>0</td>\n",
              "      <td>0.5190</td>\n",
              "      <td>-12.098</td>\n",
              "      <td>1</td>\n",
              "      <td>Golfing Papa</td>\n",
              "      <td>4</td>\n",
              "      <td>1920</td>\n",
              "      <td>0.1740</td>\n",
              "      <td>97.600</td>\n",
              "      <td>0.6890</td>\n",
              "      <td>1920</td>\n",
              "      <td>NaN</td>\n",
              "    </tr>\n",
              "    <tr>\n",
              "      <th>3</th>\n",
              "      <td>0.000173</td>\n",
              "      <td>['Oscar Velazquez']</td>\n",
              "      <td>0.730</td>\n",
              "      <td>422087</td>\n",
              "      <td>0.798</td>\n",
              "      <td>0</td>\n",
              "      <td>19Lc5SfJJ5O1oaxY0fpwfh</td>\n",
              "      <td>0.801000</td>\n",
              "      <td>2</td>\n",
              "      <td>0.1280</td>\n",
              "      <td>-7.311</td>\n",
              "      <td>1</td>\n",
              "      <td>True House Music - Xavier Santos &amp; Carlos Gomi...</td>\n",
              "      <td>17</td>\n",
              "      <td>1920-01-01</td>\n",
              "      <td>0.0425</td>\n",
              "      <td>127.997</td>\n",
              "      <td>0.0422</td>\n",
              "      <td>1920</td>\n",
              "      <td>NaN</td>\n",
              "    </tr>\n",
              "    <tr>\n",
              "      <th>4</th>\n",
              "      <td>0.295000</td>\n",
              "      <td>['Mixe']</td>\n",
              "      <td>0.704</td>\n",
              "      <td>165224</td>\n",
              "      <td>0.707</td>\n",
              "      <td>1</td>\n",
              "      <td>2hJjbsLCytGsnAHfdsLejp</td>\n",
              "      <td>0.000246</td>\n",
              "      <td>10</td>\n",
              "      <td>0.4020</td>\n",
              "      <td>-6.036</td>\n",
              "      <td>0</td>\n",
              "      <td>Xuniverxe</td>\n",
              "      <td>2</td>\n",
              "      <td>1920-10-01</td>\n",
              "      <td>0.0768</td>\n",
              "      <td>122.076</td>\n",
              "      <td>0.2990</td>\n",
              "      <td>1920</td>\n",
              "      <td>NaN</td>\n",
              "    </tr>\n",
              "  </tbody>\n",
              "</table>\n",
              "</div>"
            ],
            "text/plain": [
              "   acousticness                    artists  ...  year  main_artist\n",
              "0      0.991000            ['Mamie Smith']  ...  1920          NaN\n",
              "1      0.643000  [\"Screamin' Jay Hawkins\"]  ...  1920          NaN\n",
              "2      0.993000            ['Mamie Smith']  ...  1920          NaN\n",
              "3      0.000173        ['Oscar Velazquez']  ...  1920          NaN\n",
              "4      0.295000                   ['Mixe']  ...  1920          NaN\n",
              "\n",
              "[5 rows x 20 columns]"
            ]
          },
          "metadata": {
            "tags": []
          },
          "execution_count": 566
        }
      ]
    },
    {
      "cell_type": "markdown",
      "metadata": {
        "id": "fxtYEf2j-UWj"
      },
      "source": [
        "**Playing with the spotify_data df in order to change the format of the column artists**"
      ]
    },
    {
      "cell_type": "code",
      "metadata": {
        "id": "SH8nA09QWOF4",
        "colab": {
          "base_uri": "https://localhost:8080/",
          "height": 35
        },
        "outputId": "c711b169-8f17-4f7d-f4f7-d24aa1feb17c"
      },
      "source": [
        "spotify_data_artist = spotify_data['artists']\n",
        "spotify_data_artist.head()[0]"
      ],
      "execution_count": null,
      "outputs": [
        {
          "output_type": "execute_result",
          "data": {
            "application/vnd.google.colaboratory.intrinsic+json": {
              "type": "string"
            },
            "text/plain": [
              "\"['Mamie Smith']\""
            ]
          },
          "metadata": {
            "tags": []
          },
          "execution_count": 567
        }
      ]
    },
    {
      "cell_type": "code",
      "metadata": {
        "colab": {
          "base_uri": "https://localhost:8080/"
        },
        "id": "N54byNA_YX-Z",
        "outputId": "ffd41e6f-29e6-4177-9bc8-007e75f5043b"
      },
      "source": [
        "s = spotify_data_artist[0]\n",
        "s = list(s)\n",
        "s = s[2:len(s) - 2]\n",
        "s = \"\".join(s)\n",
        "print(s)"
      ],
      "execution_count": null,
      "outputs": [
        {
          "output_type": "stream",
          "text": [
            "Mamie Smith\n"
          ],
          "name": "stdout"
        }
      ]
    },
    {
      "cell_type": "code",
      "metadata": {
        "id": "RY7lK3atZNZy",
        "colab": {
          "base_uri": "https://localhost:8080/"
        },
        "outputId": "28779c97-8355-4e51-d939-50513a468ea8"
      },
      "source": [
        "artist_name_format = []\n",
        "for i in range(len(spotify_data_artist)):\n",
        "  s = spotify_data_artist[i]\n",
        "  s = list(s)\n",
        "  s = s[2:len(s) -2]\n",
        "  s = \"\".join(s)\n",
        "  artist_name_format.append(s)\n",
        "\n",
        "print(artist_name_format[:50])"
      ],
      "execution_count": null,
      "outputs": [
        {
          "output_type": "stream",
          "text": [
            "['Mamie Smith', \"Screamin' Jay Hawkins\", 'Mamie Smith', 'Oscar Velazquez', 'Mixe', 'Mamie Smith & Her Jazz Hounds', 'Mamie Smith', 'Mamie Smith & Her Jazz Hounds', 'Francisco Canaro', 'Meetya', 'Dorville', 'Francisco Canaro', 'Ka Koula', 'Justrock', 'Takis Nikolaou', 'Aggeliki Karagianni', 'Giorgos Katsaros', 'Francisco Canaro', 'Giorgos Katsaros', 'Amalia Vaka', 'Ron van der Kraan', \"Vasílis Besíris 'Tourkovasílis'\", 'Tr0ma', 'Ron van der Kraan', 'Oscar Velazquez', 'Jodoli', 'Athanasía Alexandropoúlou', 'Dick Haymes', 'ST', 'Manolis Karapiperis', 'Félix Mayol', 'Meetya', 'Maurice Chevalier', 'David Daniells', \"The Swingin' Bachelors\", 'Ron van der Kraan', \"The Swingin' Bachelors\", 'Ron van der Kraan', 'Meetya', 'biex', \"Mamie Smith', 'The Harlem Trio\", 'Esther Lekain', 'Mamie Smith & Her Jazz Hounds', \"Broke God', 'Pcxix\", 'Two Charming Men', 'Tr0ma', \"The Swingin' Bachelors\", \"The Swingin' Bachelors\", \"ST', '98', 'Niklas O\", 'Aryiró Yiannopoúlou']\n"
          ],
          "name": "stdout"
        }
      ]
    },
    {
      "cell_type": "code",
      "metadata": {
        "id": "I39S9LKWbP4u",
        "colab": {
          "base_uri": "https://localhost:8080/",
          "height": 264
        },
        "outputId": "0a866293-2887-4bf3-d296-3455494b7d03"
      },
      "source": [
        "spotify_data['formatted_artist'] = artist_name_format\n",
        "spotify_data.head()"
      ],
      "execution_count": null,
      "outputs": [
        {
          "output_type": "execute_result",
          "data": {
            "text/html": [
              "<div>\n",
              "<style scoped>\n",
              "    .dataframe tbody tr th:only-of-type {\n",
              "        vertical-align: middle;\n",
              "    }\n",
              "\n",
              "    .dataframe tbody tr th {\n",
              "        vertical-align: top;\n",
              "    }\n",
              "\n",
              "    .dataframe thead th {\n",
              "        text-align: right;\n",
              "    }\n",
              "</style>\n",
              "<table border=\"1\" class=\"dataframe\">\n",
              "  <thead>\n",
              "    <tr style=\"text-align: right;\">\n",
              "      <th></th>\n",
              "      <th>acousticness</th>\n",
              "      <th>artists</th>\n",
              "      <th>danceability</th>\n",
              "      <th>duration_ms</th>\n",
              "      <th>energy</th>\n",
              "      <th>explicit</th>\n",
              "      <th>id</th>\n",
              "      <th>instrumentalness</th>\n",
              "      <th>key</th>\n",
              "      <th>liveness</th>\n",
              "      <th>loudness</th>\n",
              "      <th>mode</th>\n",
              "      <th>name</th>\n",
              "      <th>popularity</th>\n",
              "      <th>release_date</th>\n",
              "      <th>speechiness</th>\n",
              "      <th>tempo</th>\n",
              "      <th>valence</th>\n",
              "      <th>year</th>\n",
              "      <th>main_artist</th>\n",
              "      <th>formatted_artist</th>\n",
              "    </tr>\n",
              "  </thead>\n",
              "  <tbody>\n",
              "    <tr>\n",
              "      <th>0</th>\n",
              "      <td>0.991000</td>\n",
              "      <td>['Mamie Smith']</td>\n",
              "      <td>0.598</td>\n",
              "      <td>168333</td>\n",
              "      <td>0.224</td>\n",
              "      <td>0</td>\n",
              "      <td>0cS0A1fUEUd1EW3FcF8AEI</td>\n",
              "      <td>0.000522</td>\n",
              "      <td>5</td>\n",
              "      <td>0.3790</td>\n",
              "      <td>-12.628</td>\n",
              "      <td>0</td>\n",
              "      <td>Keep A Song In Your Soul</td>\n",
              "      <td>12</td>\n",
              "      <td>1920</td>\n",
              "      <td>0.0936</td>\n",
              "      <td>149.976</td>\n",
              "      <td>0.6340</td>\n",
              "      <td>1920</td>\n",
              "      <td>NaN</td>\n",
              "      <td>Mamie Smith</td>\n",
              "    </tr>\n",
              "    <tr>\n",
              "      <th>1</th>\n",
              "      <td>0.643000</td>\n",
              "      <td>[\"Screamin' Jay Hawkins\"]</td>\n",
              "      <td>0.852</td>\n",
              "      <td>150200</td>\n",
              "      <td>0.517</td>\n",
              "      <td>0</td>\n",
              "      <td>0hbkKFIJm7Z05H8Zl9w30f</td>\n",
              "      <td>0.026400</td>\n",
              "      <td>5</td>\n",
              "      <td>0.0809</td>\n",
              "      <td>-7.261</td>\n",
              "      <td>0</td>\n",
              "      <td>I Put A Spell On You</td>\n",
              "      <td>7</td>\n",
              "      <td>1920-01-05</td>\n",
              "      <td>0.0534</td>\n",
              "      <td>86.889</td>\n",
              "      <td>0.9500</td>\n",
              "      <td>1920</td>\n",
              "      <td>NaN</td>\n",
              "      <td>Screamin' Jay Hawkins</td>\n",
              "    </tr>\n",
              "    <tr>\n",
              "      <th>2</th>\n",
              "      <td>0.993000</td>\n",
              "      <td>['Mamie Smith']</td>\n",
              "      <td>0.647</td>\n",
              "      <td>163827</td>\n",
              "      <td>0.186</td>\n",
              "      <td>0</td>\n",
              "      <td>11m7laMUgmOKqI3oYzuhne</td>\n",
              "      <td>0.000018</td>\n",
              "      <td>0</td>\n",
              "      <td>0.5190</td>\n",
              "      <td>-12.098</td>\n",
              "      <td>1</td>\n",
              "      <td>Golfing Papa</td>\n",
              "      <td>4</td>\n",
              "      <td>1920</td>\n",
              "      <td>0.1740</td>\n",
              "      <td>97.600</td>\n",
              "      <td>0.6890</td>\n",
              "      <td>1920</td>\n",
              "      <td>NaN</td>\n",
              "      <td>Mamie Smith</td>\n",
              "    </tr>\n",
              "    <tr>\n",
              "      <th>3</th>\n",
              "      <td>0.000173</td>\n",
              "      <td>['Oscar Velazquez']</td>\n",
              "      <td>0.730</td>\n",
              "      <td>422087</td>\n",
              "      <td>0.798</td>\n",
              "      <td>0</td>\n",
              "      <td>19Lc5SfJJ5O1oaxY0fpwfh</td>\n",
              "      <td>0.801000</td>\n",
              "      <td>2</td>\n",
              "      <td>0.1280</td>\n",
              "      <td>-7.311</td>\n",
              "      <td>1</td>\n",
              "      <td>True House Music - Xavier Santos &amp; Carlos Gomi...</td>\n",
              "      <td>17</td>\n",
              "      <td>1920-01-01</td>\n",
              "      <td>0.0425</td>\n",
              "      <td>127.997</td>\n",
              "      <td>0.0422</td>\n",
              "      <td>1920</td>\n",
              "      <td>NaN</td>\n",
              "      <td>Oscar Velazquez</td>\n",
              "    </tr>\n",
              "    <tr>\n",
              "      <th>4</th>\n",
              "      <td>0.295000</td>\n",
              "      <td>['Mixe']</td>\n",
              "      <td>0.704</td>\n",
              "      <td>165224</td>\n",
              "      <td>0.707</td>\n",
              "      <td>1</td>\n",
              "      <td>2hJjbsLCytGsnAHfdsLejp</td>\n",
              "      <td>0.000246</td>\n",
              "      <td>10</td>\n",
              "      <td>0.4020</td>\n",
              "      <td>-6.036</td>\n",
              "      <td>0</td>\n",
              "      <td>Xuniverxe</td>\n",
              "      <td>2</td>\n",
              "      <td>1920-10-01</td>\n",
              "      <td>0.0768</td>\n",
              "      <td>122.076</td>\n",
              "      <td>0.2990</td>\n",
              "      <td>1920</td>\n",
              "      <td>NaN</td>\n",
              "      <td>Mixe</td>\n",
              "    </tr>\n",
              "  </tbody>\n",
              "</table>\n",
              "</div>"
            ],
            "text/plain": [
              "   acousticness                    artists  ...  main_artist       formatted_artist\n",
              "0      0.991000            ['Mamie Smith']  ...          NaN            Mamie Smith\n",
              "1      0.643000  [\"Screamin' Jay Hawkins\"]  ...          NaN  Screamin' Jay Hawkins\n",
              "2      0.993000            ['Mamie Smith']  ...          NaN            Mamie Smith\n",
              "3      0.000173        ['Oscar Velazquez']  ...          NaN        Oscar Velazquez\n",
              "4      0.295000                   ['Mixe']  ...          NaN                   Mixe\n",
              "\n",
              "[5 rows x 21 columns]"
            ]
          },
          "metadata": {
            "tags": []
          },
          "execution_count": 570
        }
      ]
    },
    {
      "cell_type": "markdown",
      "metadata": {
        "id": "KMtOmyI_-pNk"
      },
      "source": [
        "**Loading in data from https://www.kaggle.com/yamaerenay/spotify-dataset-19212020-160k-tracks using pandas dataframe using the data_w_genres csv**"
      ]
    },
    {
      "cell_type": "code",
      "metadata": {
        "id": "SwXtzriKevIg",
        "colab": {
          "base_uri": "https://localhost:8080/",
          "height": 197
        },
        "outputId": "16389d98-c54f-49f8-e103-dd67766e8325"
      },
      "source": [
        "spotify_genre_data = pd.read_csv(\"drive/MyDrive/Music Recommender System/data_w_genres.csv\")\n",
        "spotify_genre_data.head()"
      ],
      "execution_count": null,
      "outputs": [
        {
          "output_type": "execute_result",
          "data": {
            "text/html": [
              "<div>\n",
              "<style scoped>\n",
              "    .dataframe tbody tr th:only-of-type {\n",
              "        vertical-align: middle;\n",
              "    }\n",
              "\n",
              "    .dataframe tbody tr th {\n",
              "        vertical-align: top;\n",
              "    }\n",
              "\n",
              "    .dataframe thead th {\n",
              "        text-align: right;\n",
              "    }\n",
              "</style>\n",
              "<table border=\"1\" class=\"dataframe\">\n",
              "  <thead>\n",
              "    <tr style=\"text-align: right;\">\n",
              "      <th></th>\n",
              "      <th>artists</th>\n",
              "      <th>acousticness</th>\n",
              "      <th>danceability</th>\n",
              "      <th>duration_ms</th>\n",
              "      <th>energy</th>\n",
              "      <th>instrumentalness</th>\n",
              "      <th>liveness</th>\n",
              "      <th>loudness</th>\n",
              "      <th>speechiness</th>\n",
              "      <th>tempo</th>\n",
              "      <th>valence</th>\n",
              "      <th>popularity</th>\n",
              "      <th>key</th>\n",
              "      <th>mode</th>\n",
              "      <th>count</th>\n",
              "      <th>genres</th>\n",
              "    </tr>\n",
              "  </thead>\n",
              "  <tbody>\n",
              "    <tr>\n",
              "      <th>0</th>\n",
              "      <td>\"Cats\" 1981 Original London Cast</td>\n",
              "      <td>0.598500</td>\n",
              "      <td>0.470100</td>\n",
              "      <td>267072.000000</td>\n",
              "      <td>0.376203</td>\n",
              "      <td>0.010261</td>\n",
              "      <td>0.283050</td>\n",
              "      <td>-14.434300</td>\n",
              "      <td>0.209150</td>\n",
              "      <td>114.128800</td>\n",
              "      <td>0.358320</td>\n",
              "      <td>38.200000</td>\n",
              "      <td>5</td>\n",
              "      <td>1</td>\n",
              "      <td>10</td>\n",
              "      <td>['show tunes']</td>\n",
              "    </tr>\n",
              "    <tr>\n",
              "      <th>1</th>\n",
              "      <td>\"Cats\" 1983 Broadway Cast</td>\n",
              "      <td>0.862538</td>\n",
              "      <td>0.441731</td>\n",
              "      <td>287280.000000</td>\n",
              "      <td>0.406808</td>\n",
              "      <td>0.081158</td>\n",
              "      <td>0.315215</td>\n",
              "      <td>-10.690000</td>\n",
              "      <td>0.176212</td>\n",
              "      <td>103.044154</td>\n",
              "      <td>0.268865</td>\n",
              "      <td>31.538462</td>\n",
              "      <td>5</td>\n",
              "      <td>1</td>\n",
              "      <td>26</td>\n",
              "      <td>[]</td>\n",
              "    </tr>\n",
              "    <tr>\n",
              "      <th>2</th>\n",
              "      <td>\"Fiddler On The Roof” Motion Picture Chorus</td>\n",
              "      <td>0.856571</td>\n",
              "      <td>0.348286</td>\n",
              "      <td>328920.000000</td>\n",
              "      <td>0.286571</td>\n",
              "      <td>0.024593</td>\n",
              "      <td>0.325786</td>\n",
              "      <td>-15.230714</td>\n",
              "      <td>0.118514</td>\n",
              "      <td>77.375857</td>\n",
              "      <td>0.354857</td>\n",
              "      <td>34.571429</td>\n",
              "      <td>0</td>\n",
              "      <td>1</td>\n",
              "      <td>7</td>\n",
              "      <td>[]</td>\n",
              "    </tr>\n",
              "    <tr>\n",
              "      <th>3</th>\n",
              "      <td>\"Fiddler On The Roof” Motion Picture Orchestra</td>\n",
              "      <td>0.884926</td>\n",
              "      <td>0.425074</td>\n",
              "      <td>262890.962963</td>\n",
              "      <td>0.245770</td>\n",
              "      <td>0.073587</td>\n",
              "      <td>0.275481</td>\n",
              "      <td>-15.639370</td>\n",
              "      <td>0.123200</td>\n",
              "      <td>88.667630</td>\n",
              "      <td>0.372030</td>\n",
              "      <td>34.407407</td>\n",
              "      <td>0</td>\n",
              "      <td>1</td>\n",
              "      <td>27</td>\n",
              "      <td>[]</td>\n",
              "    </tr>\n",
              "    <tr>\n",
              "      <th>4</th>\n",
              "      <td>\"Joseph And The Amazing Technicolor Dreamcoat\"...</td>\n",
              "      <td>0.510714</td>\n",
              "      <td>0.467143</td>\n",
              "      <td>270436.142857</td>\n",
              "      <td>0.488286</td>\n",
              "      <td>0.009400</td>\n",
              "      <td>0.195000</td>\n",
              "      <td>-10.236714</td>\n",
              "      <td>0.098543</td>\n",
              "      <td>122.835857</td>\n",
              "      <td>0.482286</td>\n",
              "      <td>42.000000</td>\n",
              "      <td>5</td>\n",
              "      <td>1</td>\n",
              "      <td>7</td>\n",
              "      <td>[]</td>\n",
              "    </tr>\n",
              "  </tbody>\n",
              "</table>\n",
              "</div>"
            ],
            "text/plain": [
              "                                             artists  ...          genres\n",
              "0                   \"Cats\" 1981 Original London Cast  ...  ['show tunes']\n",
              "1                          \"Cats\" 1983 Broadway Cast  ...              []\n",
              "2        \"Fiddler On The Roof” Motion Picture Chorus  ...              []\n",
              "3     \"Fiddler On The Roof” Motion Picture Orchestra  ...              []\n",
              "4  \"Joseph And The Amazing Technicolor Dreamcoat\"...  ...              []\n",
              "\n",
              "[5 rows x 16 columns]"
            ]
          },
          "metadata": {
            "tags": []
          },
          "execution_count": 571
        }
      ]
    },
    {
      "cell_type": "markdown",
      "metadata": {
        "id": "jVAtWocB-67A"
      },
      "source": [
        "**Playing with spotify_genre_data df in order to format the genres column**"
      ]
    },
    {
      "cell_type": "code",
      "metadata": {
        "id": "C4v_eALDr4kC",
        "colab": {
          "base_uri": "https://localhost:8080/"
        },
        "outputId": "f222c2ee-72c1-4380-8446-96060ce93fa3"
      },
      "source": [
        "spotify_genre = spotify_genre_data['genres']\n",
        "spotify_genre.head()"
      ],
      "execution_count": null,
      "outputs": [
        {
          "output_type": "execute_result",
          "data": {
            "text/plain": [
              "0    ['show tunes']\n",
              "1                []\n",
              "2                []\n",
              "3                []\n",
              "4                []\n",
              "Name: genres, dtype: object"
            ]
          },
          "metadata": {
            "tags": []
          },
          "execution_count": 572
        }
      ]
    },
    {
      "cell_type": "code",
      "metadata": {
        "id": "l9XM3RWcsJ-O",
        "colab": {
          "base_uri": "https://localhost:8080/"
        },
        "outputId": "652c3488-d55b-4b2b-ff25-677a88d38a7c"
      },
      "source": [
        "s = spotify_genre[8]\n",
        "s = s.replace(\"'\", '')\n",
        "s = s.replace(\" \", '')\n",
        "s = list(s)\n",
        "s = s[1:len(s) - 1]\n",
        "s = \"\".join(s)\n",
        "s = s.split(\",\")\n",
        "print(s)\n",
        "print(type(s))\n",
        "print(s[0])\n",
        "print(type(s[0]))"
      ],
      "execution_count": null,
      "outputs": [
        {
          "output_type": "stream",
          "text": [
            "['comedyrock', 'comic', 'parody']\n",
            "<class 'list'>\n",
            "comedyrock\n",
            "<class 'str'>\n"
          ],
          "name": "stdout"
        }
      ]
    },
    {
      "cell_type": "code",
      "metadata": {
        "id": "WjP76dZuvY7r",
        "colab": {
          "base_uri": "https://localhost:8080/"
        },
        "outputId": "50653fb6-6046-4ce5-f6be-bef8c0f8a341"
      },
      "source": [
        "artist_genre_format = []\n",
        "for i in range(len(spotify_genre)):\n",
        "  s = spotify_genre[i]\n",
        "  s = s.replace(\"'\", '')\n",
        "  s = s.replace(\" \", '')\n",
        "  s = list(s)\n",
        "  s = s[1:len(s) - 1]\n",
        "  s = \"\".join(s)\n",
        "  s = s.split(\",\")\n",
        "  artist_genre_format.append(s)\n",
        "\n",
        "print(artist_genre_format[:10])"
      ],
      "execution_count": null,
      "outputs": [
        {
          "output_type": "stream",
          "text": [
            "[['showtunes'], [''], [''], [''], [''], [''], [''], [''], ['comedyrock', 'comic', 'parody'], ['']]\n"
          ],
          "name": "stdout"
        }
      ]
    },
    {
      "cell_type": "code",
      "metadata": {
        "id": "hBpw24x3v0zw",
        "colab": {
          "base_uri": "https://localhost:8080/",
          "height": 197
        },
        "outputId": "a9da1ce1-494e-4886-b8c1-019f23c49e4f"
      },
      "source": [
        "spotify_genre_data['formatted_genre'] = artist_genre_format\n",
        "spotify_genre_data.head()"
      ],
      "execution_count": null,
      "outputs": [
        {
          "output_type": "execute_result",
          "data": {
            "text/html": [
              "<div>\n",
              "<style scoped>\n",
              "    .dataframe tbody tr th:only-of-type {\n",
              "        vertical-align: middle;\n",
              "    }\n",
              "\n",
              "    .dataframe tbody tr th {\n",
              "        vertical-align: top;\n",
              "    }\n",
              "\n",
              "    .dataframe thead th {\n",
              "        text-align: right;\n",
              "    }\n",
              "</style>\n",
              "<table border=\"1\" class=\"dataframe\">\n",
              "  <thead>\n",
              "    <tr style=\"text-align: right;\">\n",
              "      <th></th>\n",
              "      <th>artists</th>\n",
              "      <th>acousticness</th>\n",
              "      <th>danceability</th>\n",
              "      <th>duration_ms</th>\n",
              "      <th>energy</th>\n",
              "      <th>instrumentalness</th>\n",
              "      <th>liveness</th>\n",
              "      <th>loudness</th>\n",
              "      <th>speechiness</th>\n",
              "      <th>tempo</th>\n",
              "      <th>valence</th>\n",
              "      <th>popularity</th>\n",
              "      <th>key</th>\n",
              "      <th>mode</th>\n",
              "      <th>count</th>\n",
              "      <th>genres</th>\n",
              "      <th>formatted_genre</th>\n",
              "    </tr>\n",
              "  </thead>\n",
              "  <tbody>\n",
              "    <tr>\n",
              "      <th>0</th>\n",
              "      <td>\"Cats\" 1981 Original London Cast</td>\n",
              "      <td>0.598500</td>\n",
              "      <td>0.470100</td>\n",
              "      <td>267072.000000</td>\n",
              "      <td>0.376203</td>\n",
              "      <td>0.010261</td>\n",
              "      <td>0.283050</td>\n",
              "      <td>-14.434300</td>\n",
              "      <td>0.209150</td>\n",
              "      <td>114.128800</td>\n",
              "      <td>0.358320</td>\n",
              "      <td>38.200000</td>\n",
              "      <td>5</td>\n",
              "      <td>1</td>\n",
              "      <td>10</td>\n",
              "      <td>['show tunes']</td>\n",
              "      <td>[showtunes]</td>\n",
              "    </tr>\n",
              "    <tr>\n",
              "      <th>1</th>\n",
              "      <td>\"Cats\" 1983 Broadway Cast</td>\n",
              "      <td>0.862538</td>\n",
              "      <td>0.441731</td>\n",
              "      <td>287280.000000</td>\n",
              "      <td>0.406808</td>\n",
              "      <td>0.081158</td>\n",
              "      <td>0.315215</td>\n",
              "      <td>-10.690000</td>\n",
              "      <td>0.176212</td>\n",
              "      <td>103.044154</td>\n",
              "      <td>0.268865</td>\n",
              "      <td>31.538462</td>\n",
              "      <td>5</td>\n",
              "      <td>1</td>\n",
              "      <td>26</td>\n",
              "      <td>[]</td>\n",
              "      <td>[]</td>\n",
              "    </tr>\n",
              "    <tr>\n",
              "      <th>2</th>\n",
              "      <td>\"Fiddler On The Roof” Motion Picture Chorus</td>\n",
              "      <td>0.856571</td>\n",
              "      <td>0.348286</td>\n",
              "      <td>328920.000000</td>\n",
              "      <td>0.286571</td>\n",
              "      <td>0.024593</td>\n",
              "      <td>0.325786</td>\n",
              "      <td>-15.230714</td>\n",
              "      <td>0.118514</td>\n",
              "      <td>77.375857</td>\n",
              "      <td>0.354857</td>\n",
              "      <td>34.571429</td>\n",
              "      <td>0</td>\n",
              "      <td>1</td>\n",
              "      <td>7</td>\n",
              "      <td>[]</td>\n",
              "      <td>[]</td>\n",
              "    </tr>\n",
              "    <tr>\n",
              "      <th>3</th>\n",
              "      <td>\"Fiddler On The Roof” Motion Picture Orchestra</td>\n",
              "      <td>0.884926</td>\n",
              "      <td>0.425074</td>\n",
              "      <td>262890.962963</td>\n",
              "      <td>0.245770</td>\n",
              "      <td>0.073587</td>\n",
              "      <td>0.275481</td>\n",
              "      <td>-15.639370</td>\n",
              "      <td>0.123200</td>\n",
              "      <td>88.667630</td>\n",
              "      <td>0.372030</td>\n",
              "      <td>34.407407</td>\n",
              "      <td>0</td>\n",
              "      <td>1</td>\n",
              "      <td>27</td>\n",
              "      <td>[]</td>\n",
              "      <td>[]</td>\n",
              "    </tr>\n",
              "    <tr>\n",
              "      <th>4</th>\n",
              "      <td>\"Joseph And The Amazing Technicolor Dreamcoat\"...</td>\n",
              "      <td>0.510714</td>\n",
              "      <td>0.467143</td>\n",
              "      <td>270436.142857</td>\n",
              "      <td>0.488286</td>\n",
              "      <td>0.009400</td>\n",
              "      <td>0.195000</td>\n",
              "      <td>-10.236714</td>\n",
              "      <td>0.098543</td>\n",
              "      <td>122.835857</td>\n",
              "      <td>0.482286</td>\n",
              "      <td>42.000000</td>\n",
              "      <td>5</td>\n",
              "      <td>1</td>\n",
              "      <td>7</td>\n",
              "      <td>[]</td>\n",
              "      <td>[]</td>\n",
              "    </tr>\n",
              "  </tbody>\n",
              "</table>\n",
              "</div>"
            ],
            "text/plain": [
              "                                             artists  ...  formatted_genre\n",
              "0                   \"Cats\" 1981 Original London Cast  ...      [showtunes]\n",
              "1                          \"Cats\" 1983 Broadway Cast  ...               []\n",
              "2        \"Fiddler On The Roof” Motion Picture Chorus  ...               []\n",
              "3     \"Fiddler On The Roof” Motion Picture Orchestra  ...               []\n",
              "4  \"Joseph And The Amazing Technicolor Dreamcoat\"...  ...               []\n",
              "\n",
              "[5 rows x 17 columns]"
            ]
          },
          "metadata": {
            "tags": []
          },
          "execution_count": 575
        }
      ]
    },
    {
      "cell_type": "markdown",
      "metadata": {
        "id": "WntcLX8w_ony"
      },
      "source": [
        "**Playing with both dfs to get all the songs with the artist \"Cats\" 1981 Original London Cast**"
      ]
    },
    {
      "cell_type": "code",
      "metadata": {
        "id": "dmizdMlrfGAR",
        "colab": {
          "base_uri": "https://localhost:8080/"
        },
        "outputId": "8735ea29-80e7-4b9a-fe95-c09e0a7a3c2d"
      },
      "source": [
        "spotify_genre_artists = spotify_genre_data['artists']\n",
        "spotify_genre_artists.head()"
      ],
      "execution_count": null,
      "outputs": [
        {
          "output_type": "execute_result",
          "data": {
            "text/plain": [
              "0                     \"Cats\" 1981 Original London Cast\n",
              "1                            \"Cats\" 1983 Broadway Cast\n",
              "2          \"Fiddler On The Roof” Motion Picture Chorus\n",
              "3       \"Fiddler On The Roof” Motion Picture Orchestra\n",
              "4    \"Joseph And The Amazing Technicolor Dreamcoat\"...\n",
              "Name: artists, dtype: object"
            ]
          },
          "metadata": {
            "tags": []
          },
          "execution_count": 576
        }
      ]
    },
    {
      "cell_type": "code",
      "metadata": {
        "id": "x6YYU6xRfTCc",
        "colab": {
          "base_uri": "https://localhost:8080/",
          "height": 127
        },
        "outputId": "341a1668-d7f1-41e1-8d1b-4eceb79576da"
      },
      "source": [
        "s = spotify_genre_artists[1]\n",
        "cats = spotify_data[spotify_data['formatted_artist'].str.contains(s)]\n",
        "cats.head(1)"
      ],
      "execution_count": null,
      "outputs": [
        {
          "output_type": "execute_result",
          "data": {
            "text/html": [
              "<div>\n",
              "<style scoped>\n",
              "    .dataframe tbody tr th:only-of-type {\n",
              "        vertical-align: middle;\n",
              "    }\n",
              "\n",
              "    .dataframe tbody tr th {\n",
              "        vertical-align: top;\n",
              "    }\n",
              "\n",
              "    .dataframe thead th {\n",
              "        text-align: right;\n",
              "    }\n",
              "</style>\n",
              "<table border=\"1\" class=\"dataframe\">\n",
              "  <thead>\n",
              "    <tr style=\"text-align: right;\">\n",
              "      <th></th>\n",
              "      <th>acousticness</th>\n",
              "      <th>artists</th>\n",
              "      <th>danceability</th>\n",
              "      <th>duration_ms</th>\n",
              "      <th>energy</th>\n",
              "      <th>explicit</th>\n",
              "      <th>id</th>\n",
              "      <th>instrumentalness</th>\n",
              "      <th>key</th>\n",
              "      <th>liveness</th>\n",
              "      <th>loudness</th>\n",
              "      <th>mode</th>\n",
              "      <th>name</th>\n",
              "      <th>popularity</th>\n",
              "      <th>release_date</th>\n",
              "      <th>speechiness</th>\n",
              "      <th>tempo</th>\n",
              "      <th>valence</th>\n",
              "      <th>year</th>\n",
              "      <th>main_artist</th>\n",
              "      <th>formatted_artist</th>\n",
              "    </tr>\n",
              "  </thead>\n",
              "  <tbody>\n",
              "    <tr>\n",
              "      <th>31997</th>\n",
              "      <td>0.906</td>\n",
              "      <td>['Andrew Lloyd Webber', '\"Cats\" 1983 Broadway ...</td>\n",
              "      <td>0.254</td>\n",
              "      <td>320573</td>\n",
              "      <td>0.231</td>\n",
              "      <td>0</td>\n",
              "      <td>2Qw6jgFXAmCBjTgpu18Nv2</td>\n",
              "      <td>0.0084</td>\n",
              "      <td>3</td>\n",
              "      <td>0.114</td>\n",
              "      <td>-9.668</td>\n",
              "      <td>1</td>\n",
              "      <td>Memory</td>\n",
              "      <td>44</td>\n",
              "      <td>1983-01-01</td>\n",
              "      <td>0.0302</td>\n",
              "      <td>81.509</td>\n",
              "      <td>0.0735</td>\n",
              "      <td>1983</td>\n",
              "      <td>NaN</td>\n",
              "      <td>Andrew Lloyd Webber', '\"Cats\" 1983 Broadway Ca...</td>\n",
              "    </tr>\n",
              "  </tbody>\n",
              "</table>\n",
              "</div>"
            ],
            "text/plain": [
              "       acousticness  ...                                   formatted_artist\n",
              "31997         0.906  ...  Andrew Lloyd Webber', '\"Cats\" 1983 Broadway Ca...\n",
              "\n",
              "[1 rows x 21 columns]"
            ]
          },
          "metadata": {
            "tags": []
          },
          "execution_count": 577
        }
      ]
    },
    {
      "cell_type": "markdown",
      "metadata": {
        "id": "kMXD5Xke_ugM"
      },
      "source": [
        "**Using the spotify API in order to get data from the user playlist we created**"
      ]
    },
    {
      "cell_type": "code",
      "metadata": {
        "id": "st5KUN4-g68n"
      },
      "source": [
        "cid = 'e2a33ce0d8e94b5383609f0e5aee0ffb' \n",
        "secret = '59ae1a2b60054c94b24351e69fa74a90'\n",
        "\n",
        "client_credentials_manager = SpotifyClientCredentials(client_id=cid, client_secret=secret)\n",
        "sp = spotipy.Spotify(client_credentials_manager = client_credentials_manager)\n",
        "\n",
        "playlist = sp.user_playlist('userPlaylist', '0qT5fFxIhEemCptwD1joGj') # playlist we created \n",
        "\n",
        "playlist_ids = [] # array that is going to hold all the track ids that are in our playlist\n",
        "for item in playlist['tracks']['items']:\n",
        "        track = item['track']\n",
        "        playlist_ids.append(track['id'])\n",
        "        \n",
        "tracks = []\n",
        "for i in range(len(playlist_ids)):\n",
        "  curr = []\n",
        "\n",
        "  track_info = sp.track(playlist_ids[i]) # returns a single track information about the track in a dictionary \n",
        "  track_audio_info = sp.audio_features(playlist_ids[i]) # returns a single track information about the audio in a dictionary \n",
        "\n",
        "  name = track_info ['name']\n",
        "  artist = track_info ['album']['artists'][0]['name']\n",
        "  release_date = track_info ['album']['release_date'][0:4]\n",
        "  acousticness = track_audio_info[0]['acousticness']\n",
        "  danceability = track_audio_info[0]['danceability']\n",
        "  energy = track_audio_info[0]['energy']\n",
        "  instrumentalness = track_audio_info[0]['instrumentalness']\n",
        "  liveness = track_audio_info[0]['liveness']\n",
        "  loudness = track_audio_info[0]['loudness']\n",
        "  \n",
        "  speechiness = track_audio_info[0]['speechiness']\n",
        "  tempo = track_audio_info[0]['tempo']\n",
        "  valence = track_audio_info[0]['valence']\n",
        "\n",
        "  curr = [name, artist, release_date, acousticness, danceability, energy, instrumentalness, liveness, loudness, speechiness, tempo, valence]\n",
        "  tracks.append(curr)\n",
        "\n",
        "spotify_user_playlist = pd.DataFrame(tracks, columns = ['name', 'artist', 'release_date', 'acousticness', 'danceability', 'energy', 'instrumentalness', 'liveness', 'loudness', 'speechiness', 'tempo', 'valence'])"
      ],
      "execution_count": null,
      "outputs": []
    },
    {
      "cell_type": "code",
      "metadata": {
        "id": "o_pSM3LfCUm0",
        "colab": {
          "base_uri": "https://localhost:8080/",
          "height": 197
        },
        "outputId": "06a25300-ad06-488a-f56f-5fcd9738cbe9"
      },
      "source": [
        "spotify_user_playlist.head()"
      ],
      "execution_count": null,
      "outputs": [
        {
          "output_type": "execute_result",
          "data": {
            "text/html": [
              "<div>\n",
              "<style scoped>\n",
              "    .dataframe tbody tr th:only-of-type {\n",
              "        vertical-align: middle;\n",
              "    }\n",
              "\n",
              "    .dataframe tbody tr th {\n",
              "        vertical-align: top;\n",
              "    }\n",
              "\n",
              "    .dataframe thead th {\n",
              "        text-align: right;\n",
              "    }\n",
              "</style>\n",
              "<table border=\"1\" class=\"dataframe\">\n",
              "  <thead>\n",
              "    <tr style=\"text-align: right;\">\n",
              "      <th></th>\n",
              "      <th>name</th>\n",
              "      <th>artist</th>\n",
              "      <th>release_date</th>\n",
              "      <th>acousticness</th>\n",
              "      <th>danceability</th>\n",
              "      <th>energy</th>\n",
              "      <th>instrumentalness</th>\n",
              "      <th>liveness</th>\n",
              "      <th>loudness</th>\n",
              "      <th>speechiness</th>\n",
              "      <th>tempo</th>\n",
              "      <th>valence</th>\n",
              "    </tr>\n",
              "  </thead>\n",
              "  <tbody>\n",
              "    <tr>\n",
              "      <th>0</th>\n",
              "      <td>WITHOUT YOU</td>\n",
              "      <td>The Kid LAROI</td>\n",
              "      <td>2020</td>\n",
              "      <td>0.2130</td>\n",
              "      <td>0.662</td>\n",
              "      <td>0.413</td>\n",
              "      <td>0.000000</td>\n",
              "      <td>0.1340</td>\n",
              "      <td>-7.357</td>\n",
              "      <td>0.0299</td>\n",
              "      <td>93.005</td>\n",
              "      <td>0.467</td>\n",
              "    </tr>\n",
              "    <tr>\n",
              "      <th>1</th>\n",
              "      <td>TELL ME WHY</td>\n",
              "      <td>The Kid LAROI</td>\n",
              "      <td>2020</td>\n",
              "      <td>0.1090</td>\n",
              "      <td>0.600</td>\n",
              "      <td>0.723</td>\n",
              "      <td>0.000000</td>\n",
              "      <td>0.1670</td>\n",
              "      <td>-4.928</td>\n",
              "      <td>0.1580</td>\n",
              "      <td>149.881</td>\n",
              "      <td>0.463</td>\n",
              "    </tr>\n",
              "    <tr>\n",
              "      <th>2</th>\n",
              "      <td>All Girls Are The Same</td>\n",
              "      <td>Juice WRLD</td>\n",
              "      <td>2018</td>\n",
              "      <td>0.0769</td>\n",
              "      <td>0.671</td>\n",
              "      <td>0.529</td>\n",
              "      <td>0.000335</td>\n",
              "      <td>0.0856</td>\n",
              "      <td>-7.226</td>\n",
              "      <td>0.3070</td>\n",
              "      <td>161.989</td>\n",
              "      <td>0.203</td>\n",
              "    </tr>\n",
              "    <tr>\n",
              "      <th>3</th>\n",
              "      <td>Bandit (with YoungBoy Never Broke Again)</td>\n",
              "      <td>Juice WRLD</td>\n",
              "      <td>2019</td>\n",
              "      <td>0.0687</td>\n",
              "      <td>0.474</td>\n",
              "      <td>0.631</td>\n",
              "      <td>0.000000</td>\n",
              "      <td>0.1320</td>\n",
              "      <td>-5.884</td>\n",
              "      <td>0.3430</td>\n",
              "      <td>180.051</td>\n",
              "      <td>0.425</td>\n",
              "    </tr>\n",
              "    <tr>\n",
              "      <th>4</th>\n",
              "      <td>Righteous</td>\n",
              "      <td>Juice WRLD</td>\n",
              "      <td>2020</td>\n",
              "      <td>0.0417</td>\n",
              "      <td>0.706</td>\n",
              "      <td>0.625</td>\n",
              "      <td>0.000000</td>\n",
              "      <td>0.1290</td>\n",
              "      <td>-7.426</td>\n",
              "      <td>0.0314</td>\n",
              "      <td>142.948</td>\n",
              "      <td>0.225</td>\n",
              "    </tr>\n",
              "  </tbody>\n",
              "</table>\n",
              "</div>"
            ],
            "text/plain": [
              "                                       name         artist  ...    tempo  valence\n",
              "0                               WITHOUT YOU  The Kid LAROI  ...   93.005    0.467\n",
              "1                               TELL ME WHY  The Kid LAROI  ...  149.881    0.463\n",
              "2                    All Girls Are The Same     Juice WRLD  ...  161.989    0.203\n",
              "3  Bandit (with YoungBoy Never Broke Again)     Juice WRLD  ...  180.051    0.425\n",
              "4                                 Righteous     Juice WRLD  ...  142.948    0.225\n",
              "\n",
              "[5 rows x 12 columns]"
            ]
          },
          "metadata": {
            "tags": []
          },
          "execution_count": 579
        }
      ]
    },
    {
      "cell_type": "markdown",
      "metadata": {
        "id": "V_RnQHlX_-Gi"
      },
      "source": [
        "**Playing with spotify_genre_data df and spotify_user_playlist df in order to add the genres of each artist to each song in spotify_user_playlist**"
      ]
    },
    {
      "cell_type": "code",
      "metadata": {
        "id": "GqfPWW6tnsPl",
        "colab": {
          "base_uri": "https://localhost:8080/"
        },
        "outputId": "da1fa716-3c20-41d9-f081-c4f79031a694"
      },
      "source": [
        "spotify_playlist_artists = spotify_user_playlist['artist']\n",
        "art = []\n",
        "for artist in spotify_playlist_artists:\n",
        "  if artist not in art:\n",
        "    art.append(artist)\n",
        "print(len(art))\n",
        "spotify_playlist_artists.head()"
      ],
      "execution_count": null,
      "outputs": [
        {
          "output_type": "stream",
          "text": [
            "25\n"
          ],
          "name": "stdout"
        },
        {
          "output_type": "execute_result",
          "data": {
            "text/plain": [
              "0    The Kid LAROI\n",
              "1    The Kid LAROI\n",
              "2       Juice WRLD\n",
              "3       Juice WRLD\n",
              "4       Juice WRLD\n",
              "Name: artist, dtype: object"
            ]
          },
          "metadata": {
            "tags": []
          },
          "execution_count": 580
        }
      ]
    },
    {
      "cell_type": "code",
      "metadata": {
        "id": "rt_0sfg3pZWc"
      },
      "source": [
        "playlist_artist_genre = []\n",
        "for i in range(len(spotify_playlist_artists)):\n",
        "  for j in range(len(spotify_genre_data.artists)):\n",
        "    if(spotify_genre_data.artists.iloc[j] == spotify_playlist_artists[i]):\n",
        "      playlist_artist_genre.append(spotify_genre_data.formatted_genre.iloc[j])"
      ],
      "execution_count": null,
      "outputs": []
    },
    {
      "cell_type": "code",
      "metadata": {
        "id": "44LhZz49q4ia",
        "colab": {
          "base_uri": "https://localhost:8080/"
        },
        "outputId": "6ef0c36e-5549-4b20-e631-a78ff5aeb376"
      },
      "source": [
        "print(playlist_artist_genre)\n",
        "len(playlist_artist_genre)"
      ],
      "execution_count": null,
      "outputs": [
        {
          "output_type": "stream",
          "text": [
            "[['australianhiphop'], ['australianhiphop'], ['chicagorap', 'melodicrap'], ['chicagorap', 'melodicrap'], ['chicagorap', 'melodicrap'], ['chicagorap', 'melodicrap'], ['chicagodrill', 'chicagorap', 'drill', 'rap', 'southernhiphop', 'trap'], ['chicagorap', 'melodicrap'], ['canadiancontemporaryr&b', 'canadianpop', 'pop'], ['canadiancontemporaryr&b', 'canadianpop', 'pop'], ['australianhiphop'], ['canadiancontemporaryr&b', 'canadianpop', 'pop'], ['canadiancontemporaryr&b', 'canadianpop', 'pop'], ['canadiancontemporaryr&b', 'canadianpop', 'pop'], ['dancepop', 'pop', 'poprap', 'post-teenpop', 'urbancontemporary'], ['atlhiphop', 'dancepop', 'dirtysouthrap', 'gangsterrap', 'hiphop', 'poprap', 'rap', 'southernhiphop', 'trap'], ['dancepop', 'pop', 'popdance', 'poprap'], ['canadianhiphop', 'canadianpop', 'hiphop', 'poprap', 'rap', 'torontorap'], ['canadianhiphop', 'canadianpop', 'hiphop', 'poprap', 'rap', 'torontorap'], ['canadianhiphop', 'canadianpop', 'hiphop', 'poprap', 'rap', 'torontorap'], ['canadianhiphop', 'canadianpop', 'hiphop', 'poprap', 'rap', 'torontorap'], ['canadianhiphop', 'canadianpop', 'hiphop', 'poprap', 'rap', 'torontorap'], ['latin', 'reggaeton', 'traplatino'], ['melodicrap', 'poprap', 'rap', 'trap'], ['canadianhiphop', 'canadianpop', 'hiphop', 'poprap', 'rap', 'torontorap'], ['poprap', 'rap', 'trap'], ['canadianpop', 'pop', 'post-teenpop'], ['brooklyndrill', 'melodicrap', 'nycrap'], ['rap'], ['brooklyndrill'], ['rap', 'trap'], ['brooklyndrill'], ['chicagorap'], ['melodicrap', 'rap', 'trap'], ['brooklyndrill', 'melodicrap', 'nycrap'], ['melodicrap', 'phillyrap', 'rap', 'trap'], ['atlhiphop', 'poprap', 'rap', 'southernhiphop', 'trap'], ['brooklyndrill'], ['melodicrap'], ['northcarolinahiphop', 'rap'], ['calirap', 'hiphop', 'poprap', 'rap', 'southernhiphop', 'trap'], ['rap', 'trap'], ['dancepop', 'pop', 'poprap', 'r&b', 'rap'], ['melodicrap', 'phillyrap', 'rap', 'trap'], ['melodicrap', 'phillyrap', 'rap', 'trap'], ['brooklyndrill'], ['rap'], ['brooklyndrill', 'melodicrap', 'nycrap'], ['dancepop', 'pop', 'poprap', 'r&b', 'rap'], ['melodicrap', 'rap', 'trap']]\n"
          ],
          "name": "stdout"
        },
        {
          "output_type": "execute_result",
          "data": {
            "text/plain": [
              "50"
            ]
          },
          "metadata": {
            "tags": []
          },
          "execution_count": 582
        }
      ]
    },
    {
      "cell_type": "code",
      "metadata": {
        "id": "18Eup3T9xVm6",
        "colab": {
          "base_uri": "https://localhost:8080/",
          "height": 197
        },
        "outputId": "781d019e-fa67-4d00-bebc-dc4c30659a09"
      },
      "source": [
        "spotify_user_playlist['formatted_genre'] = playlist_artist_genre\n",
        "spotify_user_playlist.head(5)"
      ],
      "execution_count": null,
      "outputs": [
        {
          "output_type": "execute_result",
          "data": {
            "text/html": [
              "<div>\n",
              "<style scoped>\n",
              "    .dataframe tbody tr th:only-of-type {\n",
              "        vertical-align: middle;\n",
              "    }\n",
              "\n",
              "    .dataframe tbody tr th {\n",
              "        vertical-align: top;\n",
              "    }\n",
              "\n",
              "    .dataframe thead th {\n",
              "        text-align: right;\n",
              "    }\n",
              "</style>\n",
              "<table border=\"1\" class=\"dataframe\">\n",
              "  <thead>\n",
              "    <tr style=\"text-align: right;\">\n",
              "      <th></th>\n",
              "      <th>name</th>\n",
              "      <th>artist</th>\n",
              "      <th>release_date</th>\n",
              "      <th>acousticness</th>\n",
              "      <th>danceability</th>\n",
              "      <th>energy</th>\n",
              "      <th>instrumentalness</th>\n",
              "      <th>liveness</th>\n",
              "      <th>loudness</th>\n",
              "      <th>speechiness</th>\n",
              "      <th>tempo</th>\n",
              "      <th>valence</th>\n",
              "      <th>formatted_genre</th>\n",
              "    </tr>\n",
              "  </thead>\n",
              "  <tbody>\n",
              "    <tr>\n",
              "      <th>0</th>\n",
              "      <td>WITHOUT YOU</td>\n",
              "      <td>The Kid LAROI</td>\n",
              "      <td>2020</td>\n",
              "      <td>0.2130</td>\n",
              "      <td>0.662</td>\n",
              "      <td>0.413</td>\n",
              "      <td>0.000000</td>\n",
              "      <td>0.1340</td>\n",
              "      <td>-7.357</td>\n",
              "      <td>0.0299</td>\n",
              "      <td>93.005</td>\n",
              "      <td>0.467</td>\n",
              "      <td>[australianhiphop]</td>\n",
              "    </tr>\n",
              "    <tr>\n",
              "      <th>1</th>\n",
              "      <td>TELL ME WHY</td>\n",
              "      <td>The Kid LAROI</td>\n",
              "      <td>2020</td>\n",
              "      <td>0.1090</td>\n",
              "      <td>0.600</td>\n",
              "      <td>0.723</td>\n",
              "      <td>0.000000</td>\n",
              "      <td>0.1670</td>\n",
              "      <td>-4.928</td>\n",
              "      <td>0.1580</td>\n",
              "      <td>149.881</td>\n",
              "      <td>0.463</td>\n",
              "      <td>[australianhiphop]</td>\n",
              "    </tr>\n",
              "    <tr>\n",
              "      <th>2</th>\n",
              "      <td>All Girls Are The Same</td>\n",
              "      <td>Juice WRLD</td>\n",
              "      <td>2018</td>\n",
              "      <td>0.0769</td>\n",
              "      <td>0.671</td>\n",
              "      <td>0.529</td>\n",
              "      <td>0.000335</td>\n",
              "      <td>0.0856</td>\n",
              "      <td>-7.226</td>\n",
              "      <td>0.3070</td>\n",
              "      <td>161.989</td>\n",
              "      <td>0.203</td>\n",
              "      <td>[chicagorap, melodicrap]</td>\n",
              "    </tr>\n",
              "    <tr>\n",
              "      <th>3</th>\n",
              "      <td>Bandit (with YoungBoy Never Broke Again)</td>\n",
              "      <td>Juice WRLD</td>\n",
              "      <td>2019</td>\n",
              "      <td>0.0687</td>\n",
              "      <td>0.474</td>\n",
              "      <td>0.631</td>\n",
              "      <td>0.000000</td>\n",
              "      <td>0.1320</td>\n",
              "      <td>-5.884</td>\n",
              "      <td>0.3430</td>\n",
              "      <td>180.051</td>\n",
              "      <td>0.425</td>\n",
              "      <td>[chicagorap, melodicrap]</td>\n",
              "    </tr>\n",
              "    <tr>\n",
              "      <th>4</th>\n",
              "      <td>Righteous</td>\n",
              "      <td>Juice WRLD</td>\n",
              "      <td>2020</td>\n",
              "      <td>0.0417</td>\n",
              "      <td>0.706</td>\n",
              "      <td>0.625</td>\n",
              "      <td>0.000000</td>\n",
              "      <td>0.1290</td>\n",
              "      <td>-7.426</td>\n",
              "      <td>0.0314</td>\n",
              "      <td>142.948</td>\n",
              "      <td>0.225</td>\n",
              "      <td>[chicagorap, melodicrap]</td>\n",
              "    </tr>\n",
              "  </tbody>\n",
              "</table>\n",
              "</div>"
            ],
            "text/plain": [
              "                                       name  ...           formatted_genre\n",
              "0                               WITHOUT YOU  ...        [australianhiphop]\n",
              "1                               TELL ME WHY  ...        [australianhiphop]\n",
              "2                    All Girls Are The Same  ...  [chicagorap, melodicrap]\n",
              "3  Bandit (with YoungBoy Never Broke Again)  ...  [chicagorap, melodicrap]\n",
              "4                                 Righteous  ...  [chicagorap, melodicrap]\n",
              "\n",
              "[5 rows x 13 columns]"
            ]
          },
          "metadata": {
            "tags": []
          },
          "execution_count": 583
        }
      ]
    },
    {
      "cell_type": "markdown",
      "metadata": {
        "id": "ZEwOBSsBUDJh"
      },
      "source": [
        "\n",
        "\n",
        "```\n",
        "# This is formatted as code\n",
        "```\n",
        "\n",
        "**Reformatting the artist column in our spotify_user_playlist into a list to use TFIDF**"
      ]
    },
    {
      "cell_type": "code",
      "metadata": {
        "id": "ChV9yIeZHa-F",
        "colab": {
          "base_uri": "https://localhost:8080/",
          "height": 235
        },
        "outputId": "59df9758-a63d-47f4-c953-ca2b52607763"
      },
      "source": [
        "name_list = []\n",
        "\n",
        "for i in range(len(spotify_user_playlist[\"artist\"])):\n",
        "  new_array = []\n",
        "  name = spotify_user_playlist[\"artist\"][i]\n",
        "  new_array.append(name.replace(\" \", ''))\n",
        "  name_list.append(new_array)\n",
        "print(name_list)\n",
        "spotify_user_playlist[\"artist_list\"] = name_list\n",
        "spotify_user_playlist.head()"
      ],
      "execution_count": null,
      "outputs": [
        {
          "output_type": "stream",
          "text": [
            "[['TheKidLAROI'], ['TheKidLAROI'], ['JuiceWRLD'], ['JuiceWRLD'], ['JuiceWRLD'], ['JuiceWRLD'], ['GHerbo'], ['JuiceWRLD'], ['TheWeeknd'], ['TheWeeknd'], ['TheKidLAROI'], ['TheWeeknd'], ['TheWeeknd'], ['TheWeeknd'], ['JaySean'], ['T.I.'], ['BlackEyedPeas'], ['Drake'], ['Drake'], ['Drake'], ['Drake'], ['Drake'], ['BadBunny'], ['SwaeLee'], ['Drake'], ['InternetMoney'], ['JustinBieber'], ['LilTjay'], ['TravisScott'], ['PopSmoke'], ['DonToliver'], ['PopSmoke'], ['PoloG'], ['RoddyRicch'], ['LilTjay'], ['LilUziVert'], ['Future'], ['PopSmoke'], ['StaySolidRocky'], ['DaBaby'], ['Mustard'], ['DonToliver'], ['ChrisBrown'], ['LilUziVert'], ['LilUziVert'], ['PopSmoke'], ['TravisScott'], ['LilTjay'], ['ChrisBrown'], ['LilTecca']]\n"
          ],
          "name": "stdout"
        },
        {
          "output_type": "execute_result",
          "data": {
            "text/html": [
              "<div>\n",
              "<style scoped>\n",
              "    .dataframe tbody tr th:only-of-type {\n",
              "        vertical-align: middle;\n",
              "    }\n",
              "\n",
              "    .dataframe tbody tr th {\n",
              "        vertical-align: top;\n",
              "    }\n",
              "\n",
              "    .dataframe thead th {\n",
              "        text-align: right;\n",
              "    }\n",
              "</style>\n",
              "<table border=\"1\" class=\"dataframe\">\n",
              "  <thead>\n",
              "    <tr style=\"text-align: right;\">\n",
              "      <th></th>\n",
              "      <th>name</th>\n",
              "      <th>artist</th>\n",
              "      <th>release_date</th>\n",
              "      <th>acousticness</th>\n",
              "      <th>danceability</th>\n",
              "      <th>energy</th>\n",
              "      <th>instrumentalness</th>\n",
              "      <th>liveness</th>\n",
              "      <th>loudness</th>\n",
              "      <th>speechiness</th>\n",
              "      <th>tempo</th>\n",
              "      <th>valence</th>\n",
              "      <th>formatted_genre</th>\n",
              "      <th>artist_list</th>\n",
              "    </tr>\n",
              "  </thead>\n",
              "  <tbody>\n",
              "    <tr>\n",
              "      <th>0</th>\n",
              "      <td>WITHOUT YOU</td>\n",
              "      <td>The Kid LAROI</td>\n",
              "      <td>2020</td>\n",
              "      <td>0.2130</td>\n",
              "      <td>0.662</td>\n",
              "      <td>0.413</td>\n",
              "      <td>0.000000</td>\n",
              "      <td>0.1340</td>\n",
              "      <td>-7.357</td>\n",
              "      <td>0.0299</td>\n",
              "      <td>93.005</td>\n",
              "      <td>0.467</td>\n",
              "      <td>[australianhiphop]</td>\n",
              "      <td>[TheKidLAROI]</td>\n",
              "    </tr>\n",
              "    <tr>\n",
              "      <th>1</th>\n",
              "      <td>TELL ME WHY</td>\n",
              "      <td>The Kid LAROI</td>\n",
              "      <td>2020</td>\n",
              "      <td>0.1090</td>\n",
              "      <td>0.600</td>\n",
              "      <td>0.723</td>\n",
              "      <td>0.000000</td>\n",
              "      <td>0.1670</td>\n",
              "      <td>-4.928</td>\n",
              "      <td>0.1580</td>\n",
              "      <td>149.881</td>\n",
              "      <td>0.463</td>\n",
              "      <td>[australianhiphop]</td>\n",
              "      <td>[TheKidLAROI]</td>\n",
              "    </tr>\n",
              "    <tr>\n",
              "      <th>2</th>\n",
              "      <td>All Girls Are The Same</td>\n",
              "      <td>Juice WRLD</td>\n",
              "      <td>2018</td>\n",
              "      <td>0.0769</td>\n",
              "      <td>0.671</td>\n",
              "      <td>0.529</td>\n",
              "      <td>0.000335</td>\n",
              "      <td>0.0856</td>\n",
              "      <td>-7.226</td>\n",
              "      <td>0.3070</td>\n",
              "      <td>161.989</td>\n",
              "      <td>0.203</td>\n",
              "      <td>[chicagorap, melodicrap]</td>\n",
              "      <td>[JuiceWRLD]</td>\n",
              "    </tr>\n",
              "    <tr>\n",
              "      <th>3</th>\n",
              "      <td>Bandit (with YoungBoy Never Broke Again)</td>\n",
              "      <td>Juice WRLD</td>\n",
              "      <td>2019</td>\n",
              "      <td>0.0687</td>\n",
              "      <td>0.474</td>\n",
              "      <td>0.631</td>\n",
              "      <td>0.000000</td>\n",
              "      <td>0.1320</td>\n",
              "      <td>-5.884</td>\n",
              "      <td>0.3430</td>\n",
              "      <td>180.051</td>\n",
              "      <td>0.425</td>\n",
              "      <td>[chicagorap, melodicrap]</td>\n",
              "      <td>[JuiceWRLD]</td>\n",
              "    </tr>\n",
              "    <tr>\n",
              "      <th>4</th>\n",
              "      <td>Righteous</td>\n",
              "      <td>Juice WRLD</td>\n",
              "      <td>2020</td>\n",
              "      <td>0.0417</td>\n",
              "      <td>0.706</td>\n",
              "      <td>0.625</td>\n",
              "      <td>0.000000</td>\n",
              "      <td>0.1290</td>\n",
              "      <td>-7.426</td>\n",
              "      <td>0.0314</td>\n",
              "      <td>142.948</td>\n",
              "      <td>0.225</td>\n",
              "      <td>[chicagorap, melodicrap]</td>\n",
              "      <td>[JuiceWRLD]</td>\n",
              "    </tr>\n",
              "  </tbody>\n",
              "</table>\n",
              "</div>"
            ],
            "text/plain": [
              "                                       name  ...    artist_list\n",
              "0                               WITHOUT YOU  ...  [TheKidLAROI]\n",
              "1                               TELL ME WHY  ...  [TheKidLAROI]\n",
              "2                    All Girls Are The Same  ...    [JuiceWRLD]\n",
              "3  Bandit (with YoungBoy Never Broke Again)  ...    [JuiceWRLD]\n",
              "4                                 Righteous  ...    [JuiceWRLD]\n",
              "\n",
              "[5 rows x 14 columns]"
            ]
          },
          "metadata": {
            "tags": []
          },
          "execution_count": 584
        }
      ]
    },
    {
      "cell_type": "markdown",
      "metadata": {
        "id": "sow6LgVbUE7s"
      },
      "source": [
        "**Refortmating the release_date column in our spotify_user_playlist into a list to use TFIDF**"
      ]
    },
    {
      "cell_type": "code",
      "metadata": {
        "id": "yRrJfrBheOai",
        "colab": {
          "base_uri": "https://localhost:8080/",
          "height": 235
        },
        "outputId": "2088a489-05f3-45e4-e232-d53b8802a2de"
      },
      "source": [
        "date_list = []\n",
        "for i in range(len(spotify_user_playlist[\"release_date\"])):\n",
        "  new_array = []\n",
        "  name = spotify_user_playlist[\"release_date\"][i]\n",
        "  new_array.append(name.replace(\" \", ''))\n",
        "  date_list.append(new_array)\n",
        "print(name_list)\n",
        "spotify_user_playlist[\"date_list\"] = date_list\n",
        "spotify_user_playlist.head()"
      ],
      "execution_count": null,
      "outputs": [
        {
          "output_type": "stream",
          "text": [
            "[['TheKidLAROI'], ['TheKidLAROI'], ['JuiceWRLD'], ['JuiceWRLD'], ['JuiceWRLD'], ['JuiceWRLD'], ['GHerbo'], ['JuiceWRLD'], ['TheWeeknd'], ['TheWeeknd'], ['TheKidLAROI'], ['TheWeeknd'], ['TheWeeknd'], ['TheWeeknd'], ['JaySean'], ['T.I.'], ['BlackEyedPeas'], ['Drake'], ['Drake'], ['Drake'], ['Drake'], ['Drake'], ['BadBunny'], ['SwaeLee'], ['Drake'], ['InternetMoney'], ['JustinBieber'], ['LilTjay'], ['TravisScott'], ['PopSmoke'], ['DonToliver'], ['PopSmoke'], ['PoloG'], ['RoddyRicch'], ['LilTjay'], ['LilUziVert'], ['Future'], ['PopSmoke'], ['StaySolidRocky'], ['DaBaby'], ['Mustard'], ['DonToliver'], ['ChrisBrown'], ['LilUziVert'], ['LilUziVert'], ['PopSmoke'], ['TravisScott'], ['LilTjay'], ['ChrisBrown'], ['LilTecca']]\n"
          ],
          "name": "stdout"
        },
        {
          "output_type": "execute_result",
          "data": {
            "text/html": [
              "<div>\n",
              "<style scoped>\n",
              "    .dataframe tbody tr th:only-of-type {\n",
              "        vertical-align: middle;\n",
              "    }\n",
              "\n",
              "    .dataframe tbody tr th {\n",
              "        vertical-align: top;\n",
              "    }\n",
              "\n",
              "    .dataframe thead th {\n",
              "        text-align: right;\n",
              "    }\n",
              "</style>\n",
              "<table border=\"1\" class=\"dataframe\">\n",
              "  <thead>\n",
              "    <tr style=\"text-align: right;\">\n",
              "      <th></th>\n",
              "      <th>name</th>\n",
              "      <th>artist</th>\n",
              "      <th>release_date</th>\n",
              "      <th>acousticness</th>\n",
              "      <th>danceability</th>\n",
              "      <th>energy</th>\n",
              "      <th>instrumentalness</th>\n",
              "      <th>liveness</th>\n",
              "      <th>loudness</th>\n",
              "      <th>speechiness</th>\n",
              "      <th>tempo</th>\n",
              "      <th>valence</th>\n",
              "      <th>formatted_genre</th>\n",
              "      <th>artist_list</th>\n",
              "      <th>date_list</th>\n",
              "    </tr>\n",
              "  </thead>\n",
              "  <tbody>\n",
              "    <tr>\n",
              "      <th>0</th>\n",
              "      <td>WITHOUT YOU</td>\n",
              "      <td>The Kid LAROI</td>\n",
              "      <td>2020</td>\n",
              "      <td>0.2130</td>\n",
              "      <td>0.662</td>\n",
              "      <td>0.413</td>\n",
              "      <td>0.000000</td>\n",
              "      <td>0.1340</td>\n",
              "      <td>-7.357</td>\n",
              "      <td>0.0299</td>\n",
              "      <td>93.005</td>\n",
              "      <td>0.467</td>\n",
              "      <td>[australianhiphop]</td>\n",
              "      <td>[TheKidLAROI]</td>\n",
              "      <td>[2020]</td>\n",
              "    </tr>\n",
              "    <tr>\n",
              "      <th>1</th>\n",
              "      <td>TELL ME WHY</td>\n",
              "      <td>The Kid LAROI</td>\n",
              "      <td>2020</td>\n",
              "      <td>0.1090</td>\n",
              "      <td>0.600</td>\n",
              "      <td>0.723</td>\n",
              "      <td>0.000000</td>\n",
              "      <td>0.1670</td>\n",
              "      <td>-4.928</td>\n",
              "      <td>0.1580</td>\n",
              "      <td>149.881</td>\n",
              "      <td>0.463</td>\n",
              "      <td>[australianhiphop]</td>\n",
              "      <td>[TheKidLAROI]</td>\n",
              "      <td>[2020]</td>\n",
              "    </tr>\n",
              "    <tr>\n",
              "      <th>2</th>\n",
              "      <td>All Girls Are The Same</td>\n",
              "      <td>Juice WRLD</td>\n",
              "      <td>2018</td>\n",
              "      <td>0.0769</td>\n",
              "      <td>0.671</td>\n",
              "      <td>0.529</td>\n",
              "      <td>0.000335</td>\n",
              "      <td>0.0856</td>\n",
              "      <td>-7.226</td>\n",
              "      <td>0.3070</td>\n",
              "      <td>161.989</td>\n",
              "      <td>0.203</td>\n",
              "      <td>[chicagorap, melodicrap]</td>\n",
              "      <td>[JuiceWRLD]</td>\n",
              "      <td>[2018]</td>\n",
              "    </tr>\n",
              "    <tr>\n",
              "      <th>3</th>\n",
              "      <td>Bandit (with YoungBoy Never Broke Again)</td>\n",
              "      <td>Juice WRLD</td>\n",
              "      <td>2019</td>\n",
              "      <td>0.0687</td>\n",
              "      <td>0.474</td>\n",
              "      <td>0.631</td>\n",
              "      <td>0.000000</td>\n",
              "      <td>0.1320</td>\n",
              "      <td>-5.884</td>\n",
              "      <td>0.3430</td>\n",
              "      <td>180.051</td>\n",
              "      <td>0.425</td>\n",
              "      <td>[chicagorap, melodicrap]</td>\n",
              "      <td>[JuiceWRLD]</td>\n",
              "      <td>[2019]</td>\n",
              "    </tr>\n",
              "    <tr>\n",
              "      <th>4</th>\n",
              "      <td>Righteous</td>\n",
              "      <td>Juice WRLD</td>\n",
              "      <td>2020</td>\n",
              "      <td>0.0417</td>\n",
              "      <td>0.706</td>\n",
              "      <td>0.625</td>\n",
              "      <td>0.000000</td>\n",
              "      <td>0.1290</td>\n",
              "      <td>-7.426</td>\n",
              "      <td>0.0314</td>\n",
              "      <td>142.948</td>\n",
              "      <td>0.225</td>\n",
              "      <td>[chicagorap, melodicrap]</td>\n",
              "      <td>[JuiceWRLD]</td>\n",
              "      <td>[2020]</td>\n",
              "    </tr>\n",
              "  </tbody>\n",
              "</table>\n",
              "</div>"
            ],
            "text/plain": [
              "                                       name  ... date_list\n",
              "0                               WITHOUT YOU  ...    [2020]\n",
              "1                               TELL ME WHY  ...    [2020]\n",
              "2                    All Girls Are The Same  ...    [2018]\n",
              "3  Bandit (with YoungBoy Never Broke Again)  ...    [2019]\n",
              "4                                 Righteous  ...    [2020]\n",
              "\n",
              "[5 rows x 15 columns]"
            ]
          },
          "metadata": {
            "tags": []
          },
          "execution_count": 585
        }
      ]
    },
    {
      "cell_type": "markdown",
      "metadata": {
        "id": "An5O9eekBgD8"
      },
      "source": [
        "**TF-IDF**\n",
        "\n",
        "1.   looking at using genre and artist name\n",
        "2.   Item profiles = acousticness, danceability, instrumentalness, liveness, loudness, popularity,tempo, year"
      ]
    },
    {
      "cell_type": "markdown",
      "metadata": {
        "id": "dyiTBmhBVU_I"
      },
      "source": [
        "**TFIDF Values for The genre in our spotify_user_playlist**\n",
        "\n",
        "---\n",
        "\n"
      ]
    },
    {
      "cell_type": "code",
      "metadata": {
        "id": "SFh7WCrv-u6z",
        "colab": {
          "base_uri": "https://localhost:8080/",
          "height": 197
        },
        "outputId": "fd0e5a89-1af1-4b12-eaf0-fe5aa6beffc8"
      },
      "source": [
        "genrew = TfidfVectorizer(lowercase = False)\n",
        "genrey = genrew.fit_transform(spotify_user_playlist[\"formatted_genre\"].apply(lambda x: \" \".join(x)))\n",
        "genre_df = pd.DataFrame(genrey.toarray())\n",
        "genre_df.head()\n",
        "genre_df.columns = [i for i in genrew.get_feature_names()]\n",
        "\n",
        "name = []\n",
        "for col in genre_df.columns:\n",
        "    name.append(col)\n",
        "\n",
        "sums = genre_df.sum()\n",
        "genreArr = [sum for sum in sums]\n",
        "\n",
        "tupleData = list(zip(name, sums)) \n",
        "\n",
        "genre_tfidf = pd.DataFrame(tupleData, columns=[\"genre\", \"value\"])\n",
        "genre_tfidf = genre_tfidf.sort_values(by ='value', ascending = False, ignore_index = True)\n",
        "genre_tfidf.head()"
      ],
      "execution_count": null,
      "outputs": [
        {
          "output_type": "execute_result",
          "data": {
            "text/html": [
              "<div>\n",
              "<style scoped>\n",
              "    .dataframe tbody tr th:only-of-type {\n",
              "        vertical-align: middle;\n",
              "    }\n",
              "\n",
              "    .dataframe tbody tr th {\n",
              "        vertical-align: top;\n",
              "    }\n",
              "\n",
              "    .dataframe thead th {\n",
              "        text-align: right;\n",
              "    }\n",
              "</style>\n",
              "<table border=\"1\" class=\"dataframe\">\n",
              "  <thead>\n",
              "    <tr style=\"text-align: right;\">\n",
              "      <th></th>\n",
              "      <th>genre</th>\n",
              "      <th>value</th>\n",
              "    </tr>\n",
              "  </thead>\n",
              "  <tbody>\n",
              "    <tr>\n",
              "      <th>0</th>\n",
              "      <td>rap</td>\n",
              "      <td>9.704539</td>\n",
              "    </tr>\n",
              "    <tr>\n",
              "      <th>1</th>\n",
              "      <td>melodicrap</td>\n",
              "      <td>8.309059</td>\n",
              "    </tr>\n",
              "    <tr>\n",
              "      <th>2</th>\n",
              "      <td>trap</td>\n",
              "      <td>6.655679</td>\n",
              "    </tr>\n",
              "    <tr>\n",
              "      <th>3</th>\n",
              "      <td>brooklyndrill</td>\n",
              "      <td>5.698932</td>\n",
              "    </tr>\n",
              "    <tr>\n",
              "      <th>4</th>\n",
              "      <td>poprap</td>\n",
              "      <td>5.577448</td>\n",
              "    </tr>\n",
              "  </tbody>\n",
              "</table>\n",
              "</div>"
            ],
            "text/plain": [
              "           genre     value\n",
              "0            rap  9.704539\n",
              "1     melodicrap  8.309059\n",
              "2           trap  6.655679\n",
              "3  brooklyndrill  5.698932\n",
              "4         poprap  5.577448"
            ]
          },
          "metadata": {
            "tags": []
          },
          "execution_count": 586
        }
      ]
    },
    {
      "cell_type": "markdown",
      "metadata": {
        "id": "fa2N-zA8Ve2y"
      },
      "source": [
        "**TFIDF Values for The artists in our spotify_user_playlist**"
      ]
    },
    {
      "cell_type": "code",
      "metadata": {
        "id": "acW2RRitIHxz",
        "colab": {
          "base_uri": "https://localhost:8080/",
          "height": 197
        },
        "outputId": "2e28141b-dbb3-4afe-8171-a44eda2e8b9c"
      },
      "source": [
        "artistw = TfidfVectorizer(lowercase=False)\n",
        "artisty = artistw.fit_transform(spotify_user_playlist[\"artist_list\"].apply(lambda x: \" \".join(x)))\n",
        "artist_df = pd.DataFrame(artisty.toarray())\n",
        "#print(artist_df)\n",
        "artist_df.columns = [i for i in artistw.get_feature_names()]\n",
        "\n",
        "artist = []\n",
        "for col in artist_df.columns:\n",
        "  artist.append(col)\n",
        "\n",
        "sums = artist_df.sum()\n",
        "artistArr = [sum for sum in sums ]\n",
        "\n",
        "factor = [sum/len(spotify_user_playlist) for sum in sums]\n",
        "\n",
        "tupleData = list(zip(artist, artistArr)) \n",
        "\n",
        "artist_tfidf = pd.DataFrame(tupleData, columns=[\"artist\", \"value\"])\n",
        "artist_tfidf[\"factor\"] = factor\n",
        "\n",
        "artist_tfidf = artist_tfidf.sort_values(by ='factor', ascending = False, ignore_index = True)\n",
        "\n",
        "artist_tfidf.head(5)"
      ],
      "execution_count": null,
      "outputs": [
        {
          "output_type": "execute_result",
          "data": {
            "text/html": [
              "<div>\n",
              "<style scoped>\n",
              "    .dataframe tbody tr th:only-of-type {\n",
              "        vertical-align: middle;\n",
              "    }\n",
              "\n",
              "    .dataframe tbody tr th {\n",
              "        vertical-align: top;\n",
              "    }\n",
              "\n",
              "    .dataframe thead th {\n",
              "        text-align: right;\n",
              "    }\n",
              "</style>\n",
              "<table border=\"1\" class=\"dataframe\">\n",
              "  <thead>\n",
              "    <tr style=\"text-align: right;\">\n",
              "      <th></th>\n",
              "      <th>artist</th>\n",
              "      <th>value</th>\n",
              "      <th>factor</th>\n",
              "    </tr>\n",
              "  </thead>\n",
              "  <tbody>\n",
              "    <tr>\n",
              "      <th>0</th>\n",
              "      <td>Drake</td>\n",
              "      <td>6.0</td>\n",
              "      <td>0.12</td>\n",
              "    </tr>\n",
              "    <tr>\n",
              "      <th>1</th>\n",
              "      <td>TheWeeknd</td>\n",
              "      <td>5.0</td>\n",
              "      <td>0.10</td>\n",
              "    </tr>\n",
              "    <tr>\n",
              "      <th>2</th>\n",
              "      <td>JuiceWRLD</td>\n",
              "      <td>5.0</td>\n",
              "      <td>0.10</td>\n",
              "    </tr>\n",
              "    <tr>\n",
              "      <th>3</th>\n",
              "      <td>PopSmoke</td>\n",
              "      <td>4.0</td>\n",
              "      <td>0.08</td>\n",
              "    </tr>\n",
              "    <tr>\n",
              "      <th>4</th>\n",
              "      <td>TheKidLAROI</td>\n",
              "      <td>3.0</td>\n",
              "      <td>0.06</td>\n",
              "    </tr>\n",
              "  </tbody>\n",
              "</table>\n",
              "</div>"
            ],
            "text/plain": [
              "        artist  value  factor\n",
              "0        Drake    6.0    0.12\n",
              "1    TheWeeknd    5.0    0.10\n",
              "2    JuiceWRLD    5.0    0.10\n",
              "3     PopSmoke    4.0    0.08\n",
              "4  TheKidLAROI    3.0    0.06"
            ]
          },
          "metadata": {
            "tags": []
          },
          "execution_count": 587
        }
      ]
    },
    {
      "cell_type": "markdown",
      "metadata": {
        "id": "TwOyIrMGYDXS"
      },
      "source": [
        "**Getting a weighted Average Vector based on all the chosen song features in the user_spotify_playlist**"
      ]
    },
    {
      "cell_type": "code",
      "metadata": {
        "colab": {
          "base_uri": "https://localhost:8080/"
        },
        "id": "w8SahKmjmu8M",
        "outputId": "1f7c0607-b09f-47c6-f2d4-458042be2172"
      },
      "source": [
        "# Weighted Average of Songs in Playlist\n",
        "\n",
        "weighted_avg = []\n",
        "acousticness = 0.0\n",
        "danceability = 0.0\n",
        "energy = 0.0\n",
        "instrumentalness = 0.0\n",
        "liveness = 0.0\n",
        "loudness = 0.0\n",
        "speechiness = 0.0\n",
        "tempo = 0.0\n",
        "valence = 0.0\n",
        "for i in range(len(spotify_user_playlist)):\n",
        "  acousticness += spotify_user_playlist['acousticness'][i]\n",
        "  danceability += spotify_user_playlist['danceability'][i]\n",
        "  energy += spotify_user_playlist['energy'][i]\n",
        "  instrumentalness += spotify_user_playlist['instrumentalness'][i]\n",
        "  liveness += spotify_user_playlist['liveness'][i]\n",
        "  loudness += spotify_user_playlist['loudness'][i]\n",
        "  speechiness += spotify_user_playlist['speechiness'][i]\n",
        "  tempo += spotify_user_playlist['tempo'][i]\n",
        "  valence += spotify_user_playlist['valence'][i]\n",
        "\n",
        "acousticness /= len(spotify_user_playlist)\n",
        "danceability /= len(spotify_user_playlist)\n",
        "energy /= len(spotify_user_playlist)\n",
        "instrumentalness /= len(spotify_user_playlist)\n",
        "liveness /= len(spotify_user_playlist)\n",
        "loudness /= len(spotify_user_playlist)\n",
        "speechiness /= len(spotify_user_playlist)\n",
        "tempo /= len(spotify_user_playlist)\n",
        "valence /= len(spotify_user_playlist)\n",
        "\n",
        "weighted_avg.append([acousticness,danceability,energy,instrumentalness,liveness,loudness,speechiness,tempo,valence])\n",
        "print(weighted_avg)"
      ],
      "execution_count": null,
      "outputs": [
        {
          "output_type": "stream",
          "text": [
            "[[0.2074802, 0.7066999999999999, 0.59894, 0.0088669678, 0.20052199999999998, -6.78484, 0.14547799999999997, 121.02301999999997, 0.4250900000000001]]\n"
          ],
          "name": "stdout"
        }
      ]
    },
    {
      "cell_type": "markdown",
      "metadata": {
        "id": "JeJjpXc6a4zf"
      },
      "source": [
        "**Get two lists (top genres and artists in playlist) based on the TFIDF Scores calcuated**\n",
        "\n",
        "\n"
      ]
    },
    {
      "cell_type": "code",
      "metadata": {
        "colab": {
          "base_uri": "https://localhost:8080/"
        },
        "id": "RDTg7iek--n3",
        "outputId": "230b8f57-c403-4536-ca91-67e361ebd301"
      },
      "source": [
        "#This code is to get the lists based on the tfid\n",
        "genre_to_look_for = []\n",
        "for i in range(len(genre_tfidf.value)):\n",
        "  if(genre_tfidf.value[i] >= 5.2):\n",
        "    genre_to_look_for.append(genre_tfidf.genre[i])\n",
        "print(genre_to_look_for)\n",
        "\n",
        "artists_to_look_for = []\n",
        "for i in range(len(artist_tfidf.factor)):\n",
        "  if(artist_tfidf.factor[i] >= 0.05):\n",
        "    artists_to_look_for.append(artist_tfidf.artist[i])\n",
        "print(artists_to_look_for)\n"
      ],
      "execution_count": null,
      "outputs": [
        {
          "output_type": "stream",
          "text": [
            "['rap', 'melodicrap', 'trap', 'brooklyndrill', 'poprap', 'chicagorap']\n",
            "['Drake', 'TheWeeknd', 'JuiceWRLD', 'PopSmoke', 'TheKidLAROI', 'LilTjay', 'LilUziVert']\n"
          ],
          "name": "stdout"
        }
      ]
    },
    {
      "cell_type": "markdown",
      "metadata": {
        "id": "CkTamLIgbGHC"
      },
      "source": [
        "**Get all the artists that match the genres found in genre_to_look_for in spotify_genre_data df**"
      ]
    },
    {
      "cell_type": "code",
      "metadata": {
        "colab": {
          "base_uri": "https://localhost:8080/",
          "height": 231
        },
        "id": "i6JNaPcv8m9H",
        "outputId": "4d5f0701-d3c6-4a48-a659-a7b6e1cb017f"
      },
      "source": [
        "#This code is to get all the songs that fit the genre list above\n",
        "all_artist_fits2 = []\n",
        "for i in range(len(spotify_genre_data.formatted_genre)):\n",
        "  for j in range(len(spotify_genre_data.formatted_genre[i])):\n",
        "    if(spotify_genre_data.artists[i] not in all_artist_fits2):\n",
        "      if(spotify_genre_data.formatted_genre[i][j] in genre_to_look_for):\n",
        "        all_artist_fits2.append(spotify_genre_data.artists[i])\n",
        "\n",
        "all_songs2 = spotify_data[spotify_data[\"formatted_artist\"] == all_artist_fits2[0]]\n",
        "                         \n",
        "for i in range(1, len(all_artist_fits2)):\n",
        "  try:\n",
        "    all_songs2 = all_songs2.append(spotify_data[spotify_data[\"formatted_artist\"] == all_artist_fits2[i]], ignore_index=True)\n",
        "  except KeyError: \n",
        "    pass\n",
        "\n",
        "all_songs2 = all_songs2[(all_songs2['release_date'] >= \"2020-01-01\") & (all_songs2['release_date'] <= \"2020-12-31\")]\n",
        "all_songs2 = all_songs2.reset_index()\n",
        "all_songs2.head()"
      ],
      "execution_count": null,
      "outputs": [
        {
          "output_type": "execute_result",
          "data": {
            "text/html": [
              "<div>\n",
              "<style scoped>\n",
              "    .dataframe tbody tr th:only-of-type {\n",
              "        vertical-align: middle;\n",
              "    }\n",
              "\n",
              "    .dataframe tbody tr th {\n",
              "        vertical-align: top;\n",
              "    }\n",
              "\n",
              "    .dataframe thead th {\n",
              "        text-align: right;\n",
              "    }\n",
              "</style>\n",
              "<table border=\"1\" class=\"dataframe\">\n",
              "  <thead>\n",
              "    <tr style=\"text-align: right;\">\n",
              "      <th></th>\n",
              "      <th>index</th>\n",
              "      <th>acousticness</th>\n",
              "      <th>artists</th>\n",
              "      <th>danceability</th>\n",
              "      <th>duration_ms</th>\n",
              "      <th>energy</th>\n",
              "      <th>explicit</th>\n",
              "      <th>id</th>\n",
              "      <th>instrumentalness</th>\n",
              "      <th>key</th>\n",
              "      <th>liveness</th>\n",
              "      <th>loudness</th>\n",
              "      <th>mode</th>\n",
              "      <th>name</th>\n",
              "      <th>popularity</th>\n",
              "      <th>release_date</th>\n",
              "      <th>speechiness</th>\n",
              "      <th>tempo</th>\n",
              "      <th>valence</th>\n",
              "      <th>year</th>\n",
              "      <th>main_artist</th>\n",
              "      <th>formatted_artist</th>\n",
              "    </tr>\n",
              "  </thead>\n",
              "  <tbody>\n",
              "    <tr>\n",
              "      <th>0</th>\n",
              "      <td>15</td>\n",
              "      <td>0.0679</td>\n",
              "      <td>['2 Chainz']</td>\n",
              "      <td>0.897</td>\n",
              "      <td>171838</td>\n",
              "      <td>0.767</td>\n",
              "      <td>1</td>\n",
              "      <td>6jzW19SQaLj1kLArvipGQZ</td>\n",
              "      <td>0.000364</td>\n",
              "      <td>11</td>\n",
              "      <td>0.1290</td>\n",
              "      <td>-4.544</td>\n",
              "      <td>1</td>\n",
              "      <td>Grey Area</td>\n",
              "      <td>73</td>\n",
              "      <td>2020-11-13</td>\n",
              "      <td>0.0959</td>\n",
              "      <td>134.913</td>\n",
              "      <td>0.675</td>\n",
              "      <td>2020</td>\n",
              "      <td>NaN</td>\n",
              "      <td>2 Chainz</td>\n",
              "    </tr>\n",
              "    <tr>\n",
              "      <th>1</th>\n",
              "      <td>207</td>\n",
              "      <td>0.4730</td>\n",
              "      <td>['A Boogie Wit da Hoodie']</td>\n",
              "      <td>0.644</td>\n",
              "      <td>161765</td>\n",
              "      <td>0.587</td>\n",
              "      <td>1</td>\n",
              "      <td>6cZH4rX1KTt1aJ3Ql6Ynja</td>\n",
              "      <td>0.000000</td>\n",
              "      <td>7</td>\n",
              "      <td>0.0759</td>\n",
              "      <td>-6.736</td>\n",
              "      <td>0</td>\n",
              "      <td>Me and My Guitar</td>\n",
              "      <td>76</td>\n",
              "      <td>2020-02-14</td>\n",
              "      <td>0.3530</td>\n",
              "      <td>173.972</td>\n",
              "      <td>0.680</td>\n",
              "      <td>2020</td>\n",
              "      <td>NaN</td>\n",
              "      <td>A Boogie Wit da Hoodie</td>\n",
              "    </tr>\n",
              "    <tr>\n",
              "      <th>2</th>\n",
              "      <td>312</td>\n",
              "      <td>0.2520</td>\n",
              "      <td>['Ace Hood']</td>\n",
              "      <td>0.752</td>\n",
              "      <td>200655</td>\n",
              "      <td>0.525</td>\n",
              "      <td>1</td>\n",
              "      <td>5dv4YSgkpflUQ31vIW9qXg</td>\n",
              "      <td>0.000000</td>\n",
              "      <td>10</td>\n",
              "      <td>0.1150</td>\n",
              "      <td>-9.034</td>\n",
              "      <td>0</td>\n",
              "      <td>We Ball</td>\n",
              "      <td>69</td>\n",
              "      <td>2020-05-29</td>\n",
              "      <td>0.2480</td>\n",
              "      <td>154.961</td>\n",
              "      <td>0.151</td>\n",
              "      <td>2020</td>\n",
              "      <td>NaN</td>\n",
              "      <td>Ace Hood</td>\n",
              "    </tr>\n",
              "    <tr>\n",
              "      <th>3</th>\n",
              "      <td>384</td>\n",
              "      <td>0.1980</td>\n",
              "      <td>['Baby Keem']</td>\n",
              "      <td>0.770</td>\n",
              "      <td>156774</td>\n",
              "      <td>0.636</td>\n",
              "      <td>1</td>\n",
              "      <td>02iYJG3KLBJODa5JkQ4O6y</td>\n",
              "      <td>0.000003</td>\n",
              "      <td>10</td>\n",
              "      <td>0.1150</td>\n",
              "      <td>-7.636</td>\n",
              "      <td>0</td>\n",
              "      <td>hooligan</td>\n",
              "      <td>69</td>\n",
              "      <td>2020-09-18</td>\n",
              "      <td>0.0901</td>\n",
              "      <td>93.032</td>\n",
              "      <td>0.414</td>\n",
              "      <td>2020</td>\n",
              "      <td>NaN</td>\n",
              "      <td>Baby Keem</td>\n",
              "    </tr>\n",
              "    <tr>\n",
              "      <th>4</th>\n",
              "      <td>523</td>\n",
              "      <td>0.0200</td>\n",
              "      <td>['Big Sean']</td>\n",
              "      <td>0.765</td>\n",
              "      <td>197760</td>\n",
              "      <td>0.695</td>\n",
              "      <td>1</td>\n",
              "      <td>5MeRuGMPReNSIGNfQf9t3y</td>\n",
              "      <td>0.043700</td>\n",
              "      <td>2</td>\n",
              "      <td>0.1300</td>\n",
              "      <td>-6.570</td>\n",
              "      <td>1</td>\n",
              "      <td>Dance (A$$)</td>\n",
              "      <td>9</td>\n",
              "      <td>2020-09-25</td>\n",
              "      <td>0.3420</td>\n",
              "      <td>159.865</td>\n",
              "      <td>0.700</td>\n",
              "      <td>2020</td>\n",
              "      <td>NaN</td>\n",
              "      <td>Big Sean</td>\n",
              "    </tr>\n",
              "  </tbody>\n",
              "</table>\n",
              "</div>"
            ],
            "text/plain": [
              "   index  acousticness  ... main_artist        formatted_artist\n",
              "0     15        0.0679  ...         NaN                2 Chainz\n",
              "1    207        0.4730  ...         NaN  A Boogie Wit da Hoodie\n",
              "2    312        0.2520  ...         NaN                Ace Hood\n",
              "3    384        0.1980  ...         NaN               Baby Keem\n",
              "4    523        0.0200  ...         NaN                Big Sean\n",
              "\n",
              "[5 rows x 22 columns]"
            ]
          },
          "metadata": {
            "tags": []
          },
          "execution_count": 590
        }
      ]
    },
    {
      "cell_type": "markdown",
      "metadata": {
        "id": "l4xUSC5mbVR3"
      },
      "source": [
        "**Create a matrix of all the songs from all_songs2 df where each row contains the song features**"
      ]
    },
    {
      "cell_type": "code",
      "metadata": {
        "colab": {
          "base_uri": "https://localhost:8080/"
        },
        "id": "dAYCc0muR9gN",
        "outputId": "c6a06455-0bc5-466e-879c-de63809b0530"
      },
      "source": [
        "s2_labels = []\n",
        "for i in range(all_songs2.shape[0]):\n",
        "  current = []\n",
        "  for column in all_songs2:\n",
        "    if (column == \"acousticness\" or column == \"danceability\" or column == \"energy\" or column == \"instrumentalness\" or column == \"liveness\" or column == \"loudness\" or column == \"speechiness\" or column == \"tempo\" or column == \"valence\" ):\n",
        "      current.append(all_songs2[column][i])\n",
        "  s2_labels.append(current)\n",
        "print(len(s2_labels))"
      ],
      "execution_count": null,
      "outputs": [
        {
          "output_type": "stream",
          "text": [
            "206\n"
          ],
          "name": "stdout"
        }
      ]
    },
    {
      "cell_type": "markdown",
      "metadata": {
        "id": "VlKFCO9hbv1s"
      },
      "source": [
        "**Recommend 10 songs using the weighted_avg vector and the matrix s2_labels by using cosine_similarit (Recommendation by genre)y**"
      ]
    },
    {
      "cell_type": "code",
      "metadata": {
        "colab": {
          "base_uri": "https://localhost:8080/"
        },
        "id": "LY8BUf8fSHCn",
        "outputId": "6153ea4c-eace-4d7a-e7c0-03eff732e849"
      },
      "source": [
        "recommendations2 = []\n",
        "temp = cosine_similarity(weighted_avg, s2_labels)\n",
        "r2df = pd.DataFrame(temp).T # transpose row and comlums swap\n",
        "top10 = r2df.nlargest(r2df.shape[0],0).index # index of top 10 closeest to songs in playlist\n",
        "for index in top10:\n",
        "  recommendations2.append(\"'\" + all_songs2['name'][index] + \"'\" + \" by \" + all_songs2['artists'][index][2:-2])\n",
        "\n",
        "chosenR2 = []\n",
        "print(\"You should listen to: \")\n",
        "i = 1\n",
        "while len(chosenR2) < 10:\n",
        "  ind = random.randint(0, r2df.shape[0])\n",
        "  try:\n",
        "    if recommendations2[ind] not in chosenR2:\n",
        "      chosenR2.append(recommendations2[ind])\n",
        "      print(i,\": \" + recommendations2[ind])\n",
        "      i += 1\n",
        "  except IndexError:\n",
        "    pass"
      ],
      "execution_count": null,
      "outputs": [
        {
          "output_type": "stream",
          "text": [
            "You should listen to: \n",
            "1 : 'Good News' by Mac Miller\n",
            "2 : 'bloody valentine' by Machine Gun Kelly\n",
            "3 : 'Said Sum' by Moneybagg Yo\n",
            "4 : 'HOLIDAY' by Lil Nas X\n",
            "5 : 'Take You Dancing' by Jason Derulo\n",
            "6 : 'Whole Lotta Choppas' by Sada Baby\n",
            "7 : 'Meh' by Playboi Carti\n",
            "8 : 'Tyler Herro' by Jack Harlow\n",
            "9 : 'BEST INTEREST' by Tyler, The Creator\n",
            "10 : 'Baby Pluto' by Lil Uzi Vert\n"
          ],
          "name": "stdout"
        }
      ]
    },
    {
      "cell_type": "markdown",
      "metadata": {
        "id": "srQ4ajx4cGmt"
      },
      "source": [
        "**Fromatting spotify_data df in order to compare each artist to the artists_to_look_for list**"
      ]
    },
    {
      "cell_type": "code",
      "metadata": {
        "colab": {
          "base_uri": "https://localhost:8080/",
          "height": 401
        },
        "id": "efEivnQUB0mu",
        "outputId": "e79cd564-7e9b-44af-cca1-0826ce4f01d9"
      },
      "source": [
        "joinedArtists = []\n",
        "for i in range(len(spotify_data.formatted_artist)):\n",
        "  name = spotify_data.formatted_artist[i]\n",
        "  name = name.replace(\" \", \"\")\n",
        "  joinedArtists.append(name)\n",
        "spotify_data[\"joined_artist\"] = joinedArtists\n",
        "spotify_data.head()"
      ],
      "execution_count": null,
      "outputs": [
        {
          "output_type": "execute_result",
          "data": {
            "text/html": [
              "<div>\n",
              "<style scoped>\n",
              "    .dataframe tbody tr th:only-of-type {\n",
              "        vertical-align: middle;\n",
              "    }\n",
              "\n",
              "    .dataframe tbody tr th {\n",
              "        vertical-align: top;\n",
              "    }\n",
              "\n",
              "    .dataframe thead th {\n",
              "        text-align: right;\n",
              "    }\n",
              "</style>\n",
              "<table border=\"1\" class=\"dataframe\">\n",
              "  <thead>\n",
              "    <tr style=\"text-align: right;\">\n",
              "      <th></th>\n",
              "      <th>acousticness</th>\n",
              "      <th>artists</th>\n",
              "      <th>danceability</th>\n",
              "      <th>duration_ms</th>\n",
              "      <th>energy</th>\n",
              "      <th>explicit</th>\n",
              "      <th>id</th>\n",
              "      <th>instrumentalness</th>\n",
              "      <th>key</th>\n",
              "      <th>liveness</th>\n",
              "      <th>loudness</th>\n",
              "      <th>mode</th>\n",
              "      <th>name</th>\n",
              "      <th>popularity</th>\n",
              "      <th>release_date</th>\n",
              "      <th>speechiness</th>\n",
              "      <th>tempo</th>\n",
              "      <th>valence</th>\n",
              "      <th>year</th>\n",
              "      <th>main_artist</th>\n",
              "      <th>formatted_artist</th>\n",
              "      <th>joined_artist</th>\n",
              "    </tr>\n",
              "  </thead>\n",
              "  <tbody>\n",
              "    <tr>\n",
              "      <th>0</th>\n",
              "      <td>0.991000</td>\n",
              "      <td>['Mamie Smith']</td>\n",
              "      <td>0.598</td>\n",
              "      <td>168333</td>\n",
              "      <td>0.224</td>\n",
              "      <td>0</td>\n",
              "      <td>0cS0A1fUEUd1EW3FcF8AEI</td>\n",
              "      <td>0.000522</td>\n",
              "      <td>5</td>\n",
              "      <td>0.3790</td>\n",
              "      <td>-12.628</td>\n",
              "      <td>0</td>\n",
              "      <td>Keep A Song In Your Soul</td>\n",
              "      <td>12</td>\n",
              "      <td>1920</td>\n",
              "      <td>0.0936</td>\n",
              "      <td>149.976</td>\n",
              "      <td>0.6340</td>\n",
              "      <td>1920</td>\n",
              "      <td>NaN</td>\n",
              "      <td>Mamie Smith</td>\n",
              "      <td>MamieSmith</td>\n",
              "    </tr>\n",
              "    <tr>\n",
              "      <th>1</th>\n",
              "      <td>0.643000</td>\n",
              "      <td>[\"Screamin' Jay Hawkins\"]</td>\n",
              "      <td>0.852</td>\n",
              "      <td>150200</td>\n",
              "      <td>0.517</td>\n",
              "      <td>0</td>\n",
              "      <td>0hbkKFIJm7Z05H8Zl9w30f</td>\n",
              "      <td>0.026400</td>\n",
              "      <td>5</td>\n",
              "      <td>0.0809</td>\n",
              "      <td>-7.261</td>\n",
              "      <td>0</td>\n",
              "      <td>I Put A Spell On You</td>\n",
              "      <td>7</td>\n",
              "      <td>1920-01-05</td>\n",
              "      <td>0.0534</td>\n",
              "      <td>86.889</td>\n",
              "      <td>0.9500</td>\n",
              "      <td>1920</td>\n",
              "      <td>NaN</td>\n",
              "      <td>Screamin' Jay Hawkins</td>\n",
              "      <td>Screamin'JayHawkins</td>\n",
              "    </tr>\n",
              "    <tr>\n",
              "      <th>2</th>\n",
              "      <td>0.993000</td>\n",
              "      <td>['Mamie Smith']</td>\n",
              "      <td>0.647</td>\n",
              "      <td>163827</td>\n",
              "      <td>0.186</td>\n",
              "      <td>0</td>\n",
              "      <td>11m7laMUgmOKqI3oYzuhne</td>\n",
              "      <td>0.000018</td>\n",
              "      <td>0</td>\n",
              "      <td>0.5190</td>\n",
              "      <td>-12.098</td>\n",
              "      <td>1</td>\n",
              "      <td>Golfing Papa</td>\n",
              "      <td>4</td>\n",
              "      <td>1920</td>\n",
              "      <td>0.1740</td>\n",
              "      <td>97.600</td>\n",
              "      <td>0.6890</td>\n",
              "      <td>1920</td>\n",
              "      <td>NaN</td>\n",
              "      <td>Mamie Smith</td>\n",
              "      <td>MamieSmith</td>\n",
              "    </tr>\n",
              "    <tr>\n",
              "      <th>3</th>\n",
              "      <td>0.000173</td>\n",
              "      <td>['Oscar Velazquez']</td>\n",
              "      <td>0.730</td>\n",
              "      <td>422087</td>\n",
              "      <td>0.798</td>\n",
              "      <td>0</td>\n",
              "      <td>19Lc5SfJJ5O1oaxY0fpwfh</td>\n",
              "      <td>0.801000</td>\n",
              "      <td>2</td>\n",
              "      <td>0.1280</td>\n",
              "      <td>-7.311</td>\n",
              "      <td>1</td>\n",
              "      <td>True House Music - Xavier Santos &amp; Carlos Gomi...</td>\n",
              "      <td>17</td>\n",
              "      <td>1920-01-01</td>\n",
              "      <td>0.0425</td>\n",
              "      <td>127.997</td>\n",
              "      <td>0.0422</td>\n",
              "      <td>1920</td>\n",
              "      <td>NaN</td>\n",
              "      <td>Oscar Velazquez</td>\n",
              "      <td>OscarVelazquez</td>\n",
              "    </tr>\n",
              "    <tr>\n",
              "      <th>4</th>\n",
              "      <td>0.295000</td>\n",
              "      <td>['Mixe']</td>\n",
              "      <td>0.704</td>\n",
              "      <td>165224</td>\n",
              "      <td>0.707</td>\n",
              "      <td>1</td>\n",
              "      <td>2hJjbsLCytGsnAHfdsLejp</td>\n",
              "      <td>0.000246</td>\n",
              "      <td>10</td>\n",
              "      <td>0.4020</td>\n",
              "      <td>-6.036</td>\n",
              "      <td>0</td>\n",
              "      <td>Xuniverxe</td>\n",
              "      <td>2</td>\n",
              "      <td>1920-10-01</td>\n",
              "      <td>0.0768</td>\n",
              "      <td>122.076</td>\n",
              "      <td>0.2990</td>\n",
              "      <td>1920</td>\n",
              "      <td>NaN</td>\n",
              "      <td>Mixe</td>\n",
              "      <td>Mixe</td>\n",
              "    </tr>\n",
              "  </tbody>\n",
              "</table>\n",
              "</div>"
            ],
            "text/plain": [
              "   acousticness  ...        joined_artist\n",
              "0      0.991000  ...           MamieSmith\n",
              "1      0.643000  ...  Screamin'JayHawkins\n",
              "2      0.993000  ...           MamieSmith\n",
              "3      0.000173  ...       OscarVelazquez\n",
              "4      0.295000  ...                 Mixe\n",
              "\n",
              "[5 rows x 22 columns]"
            ]
          },
          "metadata": {
            "tags": []
          },
          "execution_count": 593
        }
      ]
    },
    {
      "cell_type": "markdown",
      "metadata": {
        "id": "PV8kYOvwcXvF"
      },
      "source": [
        "**Get all the songs that match the artist found in the spotify_data df into a new df called all_songs3**\n"
      ]
    },
    {
      "cell_type": "code",
      "metadata": {
        "colab": {
          "base_uri": "https://localhost:8080/",
          "height": 251
        },
        "id": "HqOheTBX_By-",
        "outputId": "b9f063ac-c087-4557-9cbc-3ff030aa1d87"
      },
      "source": [
        "all_songs3 = spotify_data[spotify_data[\"joined_artist\"] == artists_to_look_for[0]]\n",
        "all_songs3.head()                \n",
        "for i in range(1, len(artists_to_look_for)):\n",
        "  try:\n",
        "    all_songs3 = all_songs3.append(spotify_data[spotify_data[\"joined_artist\"] == artists_to_look_for[i]], ignore_index=True)\n",
        "  except KeyError: \n",
        "    pass\n",
        "\n",
        "all_songs3 = all_songs3[(all_songs3['release_date'] >= \"2016-01-01\")]\n",
        "all_songs3 = all_songs3.reset_index()\n",
        "all_songs3.head()"
      ],
      "execution_count": null,
      "outputs": [
        {
          "output_type": "execute_result",
          "data": {
            "text/html": [
              "<div>\n",
              "<style scoped>\n",
              "    .dataframe tbody tr th:only-of-type {\n",
              "        vertical-align: middle;\n",
              "    }\n",
              "\n",
              "    .dataframe tbody tr th {\n",
              "        vertical-align: top;\n",
              "    }\n",
              "\n",
              "    .dataframe thead th {\n",
              "        text-align: right;\n",
              "    }\n",
              "</style>\n",
              "<table border=\"1\" class=\"dataframe\">\n",
              "  <thead>\n",
              "    <tr style=\"text-align: right;\">\n",
              "      <th></th>\n",
              "      <th>index</th>\n",
              "      <th>acousticness</th>\n",
              "      <th>artists</th>\n",
              "      <th>danceability</th>\n",
              "      <th>duration_ms</th>\n",
              "      <th>energy</th>\n",
              "      <th>explicit</th>\n",
              "      <th>id</th>\n",
              "      <th>instrumentalness</th>\n",
              "      <th>key</th>\n",
              "      <th>liveness</th>\n",
              "      <th>loudness</th>\n",
              "      <th>mode</th>\n",
              "      <th>name</th>\n",
              "      <th>popularity</th>\n",
              "      <th>release_date</th>\n",
              "      <th>speechiness</th>\n",
              "      <th>tempo</th>\n",
              "      <th>valence</th>\n",
              "      <th>year</th>\n",
              "      <th>main_artist</th>\n",
              "      <th>formatted_artist</th>\n",
              "      <th>joined_artist</th>\n",
              "    </tr>\n",
              "  </thead>\n",
              "  <tbody>\n",
              "    <tr>\n",
              "      <th>0</th>\n",
              "      <td>7</td>\n",
              "      <td>0.00258</td>\n",
              "      <td>['Drake']</td>\n",
              "      <td>0.891</td>\n",
              "      <td>267067</td>\n",
              "      <td>0.628</td>\n",
              "      <td>0</td>\n",
              "      <td>0wwPcA6wtMf6HUMpIRdeP7</td>\n",
              "      <td>0.000190</td>\n",
              "      <td>2</td>\n",
              "      <td>0.0504</td>\n",
              "      <td>-7.863</td>\n",
              "      <td>1</td>\n",
              "      <td>Hotline Bling</td>\n",
              "      <td>76</td>\n",
              "      <td>2016-05-06</td>\n",
              "      <td>0.0551</td>\n",
              "      <td>134.966</td>\n",
              "      <td>0.552</td>\n",
              "      <td>2016</td>\n",
              "      <td>NaN</td>\n",
              "      <td>Drake</td>\n",
              "      <td>Drake</td>\n",
              "    </tr>\n",
              "    <tr>\n",
              "      <th>1</th>\n",
              "      <td>8</td>\n",
              "      <td>0.25600</td>\n",
              "      <td>['Drake']</td>\n",
              "      <td>0.809</td>\n",
              "      <td>298941</td>\n",
              "      <td>0.463</td>\n",
              "      <td>1</td>\n",
              "      <td>5mCPDVBb16L4XQwDdbRUpz</td>\n",
              "      <td>0.085000</td>\n",
              "      <td>11</td>\n",
              "      <td>0.1090</td>\n",
              "      <td>-11.377</td>\n",
              "      <td>1</td>\n",
              "      <td>Passionfruit</td>\n",
              "      <td>79</td>\n",
              "      <td>2017-03-18</td>\n",
              "      <td>0.0396</td>\n",
              "      <td>111.980</td>\n",
              "      <td>0.364</td>\n",
              "      <td>2017</td>\n",
              "      <td>NaN</td>\n",
              "      <td>Drake</td>\n",
              "      <td>Drake</td>\n",
              "    </tr>\n",
              "    <tr>\n",
              "      <th>2</th>\n",
              "      <td>9</td>\n",
              "      <td>0.11100</td>\n",
              "      <td>['Drake']</td>\n",
              "      <td>0.766</td>\n",
              "      <td>219692</td>\n",
              "      <td>0.283</td>\n",
              "      <td>1</td>\n",
              "      <td>6n3HGiq4v35D6eFOSwqYuo</td>\n",
              "      <td>0.017200</td>\n",
              "      <td>8</td>\n",
              "      <td>0.1150</td>\n",
              "      <td>-10.330</td>\n",
              "      <td>0</td>\n",
              "      <td>Teenage Fever</td>\n",
              "      <td>75</td>\n",
              "      <td>2017-03-18</td>\n",
              "      <td>0.0846</td>\n",
              "      <td>97.040</td>\n",
              "      <td>0.144</td>\n",
              "      <td>2017</td>\n",
              "      <td>NaN</td>\n",
              "      <td>Drake</td>\n",
              "      <td>Drake</td>\n",
              "    </tr>\n",
              "    <tr>\n",
              "      <th>3</th>\n",
              "      <td>10</td>\n",
              "      <td>0.03320</td>\n",
              "      <td>['Drake']</td>\n",
              "      <td>0.754</td>\n",
              "      <td>198973</td>\n",
              "      <td>0.449</td>\n",
              "      <td>1</td>\n",
              "      <td>6DCZcSspjsKoFjzjrWoCdn</td>\n",
              "      <td>0.000083</td>\n",
              "      <td>7</td>\n",
              "      <td>0.5520</td>\n",
              "      <td>-9.211</td>\n",
              "      <td>1</td>\n",
              "      <td>God's Plan</td>\n",
              "      <td>83</td>\n",
              "      <td>2018-06-29</td>\n",
              "      <td>0.1090</td>\n",
              "      <td>77.169</td>\n",
              "      <td>0.357</td>\n",
              "      <td>2018</td>\n",
              "      <td>NaN</td>\n",
              "      <td>Drake</td>\n",
              "      <td>Drake</td>\n",
              "    </tr>\n",
              "    <tr>\n",
              "      <th>4</th>\n",
              "      <td>11</td>\n",
              "      <td>0.01650</td>\n",
              "      <td>['Drake']</td>\n",
              "      <td>0.912</td>\n",
              "      <td>238614</td>\n",
              "      <td>0.412</td>\n",
              "      <td>1</td>\n",
              "      <td>0TlLq3lA83rQOYtrqBqSct</td>\n",
              "      <td>0.012600</td>\n",
              "      <td>7</td>\n",
              "      <td>0.1040</td>\n",
              "      <td>-8.074</td>\n",
              "      <td>1</td>\n",
              "      <td>Nonstop</td>\n",
              "      <td>78</td>\n",
              "      <td>2018-06-29</td>\n",
              "      <td>0.1230</td>\n",
              "      <td>154.983</td>\n",
              "      <td>0.423</td>\n",
              "      <td>2018</td>\n",
              "      <td>NaN</td>\n",
              "      <td>Drake</td>\n",
              "      <td>Drake</td>\n",
              "    </tr>\n",
              "  </tbody>\n",
              "</table>\n",
              "</div>"
            ],
            "text/plain": [
              "   index  acousticness    artists  ...  main_artist  formatted_artist  joined_artist\n",
              "0      7       0.00258  ['Drake']  ...          NaN             Drake          Drake\n",
              "1      8       0.25600  ['Drake']  ...          NaN             Drake          Drake\n",
              "2      9       0.11100  ['Drake']  ...          NaN             Drake          Drake\n",
              "3     10       0.03320  ['Drake']  ...          NaN             Drake          Drake\n",
              "4     11       0.01650  ['Drake']  ...          NaN             Drake          Drake\n",
              "\n",
              "[5 rows x 23 columns]"
            ]
          },
          "metadata": {
            "tags": []
          },
          "execution_count": 594
        }
      ]
    },
    {
      "cell_type": "markdown",
      "metadata": {
        "id": "V-G2rfARdBKj"
      },
      "source": [
        "**Create a matrix of all the songs from all_songs3 df where each row contains the song features**"
      ]
    },
    {
      "cell_type": "code",
      "metadata": {
        "id": "FH9fqISWEc_q",
        "colab": {
          "base_uri": "https://localhost:8080/"
        },
        "outputId": "58e40ae0-b7ff-4f44-dc53-df6bcf43637b"
      },
      "source": [
        "s3_labels = []\n",
        "for i in range(all_songs3.shape[0]):\n",
        "  current = []\n",
        "  for column in all_songs3:\n",
        "    if (column == \"acousticness\" or column == \"danceability\" or column == \"energy\" \n",
        "        or column == \"instrumentalness\" or column == \"liveness\" or column == \"loudness\" \n",
        "        or column == \"speechiness\" or column == \"tempo\" or column == \"valence\" ):\n",
        "      current.append(all_songs3[column][i])\n",
        "  s3_labels.append(current)\n",
        "print(len(s3_labels))"
      ],
      "execution_count": null,
      "outputs": [
        {
          "output_type": "stream",
          "text": [
            "163\n"
          ],
          "name": "stdout"
        }
      ]
    },
    {
      "cell_type": "markdown",
      "metadata": {
        "id": "oNlnVWJDdoT1"
      },
      "source": [
        "**Recommends 10 songs based on only the artists found in the spotify_user_playlist df**"
      ]
    },
    {
      "cell_type": "code",
      "metadata": {
        "id": "jQSepyLME6RB",
        "colab": {
          "base_uri": "https://localhost:8080/"
        },
        "outputId": "b9e74bc5-7cf4-44a0-8113-6dfdc7ca3f94"
      },
      "source": [
        "recommendations3 = []\n",
        "\n",
        "temp = cosine_similarity(weighted_avg, s3_labels)\n",
        "r3df = pd.DataFrame(temp).T # transpose row and comlums swap\n",
        "top10 = r3df.nlargest(r3df.shape[0] ,0).index # index of top 10 closeest to songs in playlist\n",
        "for index in top10:\n",
        "  recommendations3.append(\"'\" + all_songs3['name'][index] + \"'\" + \" by \" + all_songs3['artists'][index][2:-2])\n",
        "\n",
        "chosenR3 = []\n",
        "print(\"You should listen to: \")\n",
        "i = 1\n",
        "while len(chosenR3) < 10:\n",
        "  ind = random.randint(0, r3df.shape[0])\n",
        "  try:\n",
        "    if recommendations3[ind] not in chosenR3:\n",
        "      chosenR3.append(recommendations3[ind])\n",
        "      print(i, \": \" + recommendations3[ind])\n",
        "      i += 1\n",
        "  except IndexError:\n",
        "    pass"
      ],
      "execution_count": null,
      "outputs": [
        {
          "output_type": "stream",
          "text": [
            "You should listen to: \n",
            "1 : '20/20' by Lil Tjay\n",
            "2 : 'WITHOUT YOU' by The Kid LAROI\n",
            "3 : 'Dior' by Pop Smoke\n",
            "4 : 'Attention' by The Weeknd\n",
            "5 : 'Empty' by Juice WRLD\n",
            "6 : 'In My Feelings' by Drake\n",
            "7 : 'Secrets' by The Weeknd\n",
            "8 : 'Used To' by Juice WRLD\n",
            "9 : 'Maze' by Juice WRLD\n",
            "10 : 'Man Of The Year' by Juice WRLD\n"
          ],
          "name": "stdout"
        }
      ]
    }
  ]
}